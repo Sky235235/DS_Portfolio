{
 "cells": [
  {
   "cell_type": "code",
   "execution_count": 1,
   "metadata": {},
   "outputs": [],
   "source": [
    "import pandas as pd\n",
    "import numpy as np\n",
    "from sklearn.ensemble import RandomForestClassifier"
   ]
  },
  {
   "cell_type": "code",
   "execution_count": 2,
   "metadata": {},
   "outputs": [],
   "source": [
    "forest = RandomForestClassifier(n_estimators=300, n_jobs=-1)"
   ]
  },
  {
   "cell_type": "code",
   "execution_count": 2,
   "metadata": {},
   "outputs": [
    {
     "data": {
      "text/html": [
       "<div>\n",
       "<style scoped>\n",
       "    .dataframe tbody tr th:only-of-type {\n",
       "        vertical-align: middle;\n",
       "    }\n",
       "\n",
       "    .dataframe tbody tr th {\n",
       "        vertical-align: top;\n",
       "    }\n",
       "\n",
       "    .dataframe thead th {\n",
       "        text-align: right;\n",
       "    }\n",
       "</style>\n",
       "<table border=\"1\" class=\"dataframe\">\n",
       "  <thead>\n",
       "    <tr style=\"text-align: right;\">\n",
       "      <th></th>\n",
       "      <th>BYSTUWT</th>\n",
       "      <th>BYSEX</th>\n",
       "      <th>BYRACE</th>\n",
       "      <th>BYSTLANG</th>\n",
       "      <th>BYHOMLNG</th>\n",
       "      <th>BYSTLNG2</th>\n",
       "      <th>BYDOB_P</th>\n",
       "      <th>BYFCOMP</th>\n",
       "      <th>BYPARED</th>\n",
       "      <th>BYMOTHED</th>\n",
       "      <th>...</th>\n",
       "      <th>BYS24D</th>\n",
       "      <th>BYS24E</th>\n",
       "      <th>BYS28</th>\n",
       "      <th>BYS71A</th>\n",
       "      <th>BYS71B</th>\n",
       "      <th>BYS71C</th>\n",
       "      <th>BYS71D</th>\n",
       "      <th>BYS71E</th>\n",
       "      <th>BYS71F</th>\n",
       "      <th>F3ONET2CURR</th>\n",
       "    </tr>\n",
       "    <tr>\n",
       "      <th>STU_ID</th>\n",
       "      <th></th>\n",
       "      <th></th>\n",
       "      <th></th>\n",
       "      <th></th>\n",
       "      <th></th>\n",
       "      <th></th>\n",
       "      <th></th>\n",
       "      <th></th>\n",
       "      <th></th>\n",
       "      <th></th>\n",
       "      <th></th>\n",
       "      <th></th>\n",
       "      <th></th>\n",
       "      <th></th>\n",
       "      <th></th>\n",
       "      <th></th>\n",
       "      <th></th>\n",
       "      <th></th>\n",
       "      <th></th>\n",
       "      <th></th>\n",
       "      <th></th>\n",
       "    </tr>\n",
       "  </thead>\n",
       "  <tbody>\n",
       "    <tr>\n",
       "      <th>101102</th>\n",
       "      <td>28.2951</td>\n",
       "      <td>2.0</td>\n",
       "      <td>2.0</td>\n",
       "      <td>0.0</td>\n",
       "      <td>4.0</td>\n",
       "      <td>2</td>\n",
       "      <td>198605.0</td>\n",
       "      <td>1.0</td>\n",
       "      <td>5.0</td>\n",
       "      <td>5.0</td>\n",
       "      <td>...</td>\n",
       "      <td>1.0</td>\n",
       "      <td>1.0</td>\n",
       "      <td>2.0</td>\n",
       "      <td>0.0</td>\n",
       "      <td>0.0</td>\n",
       "      <td>0.0</td>\n",
       "      <td>0.0</td>\n",
       "      <td>1.0</td>\n",
       "      <td>0.0</td>\n",
       "      <td>29</td>\n",
       "    </tr>\n",
       "    <tr>\n",
       "      <th>101104</th>\n",
       "      <td>589.7248</td>\n",
       "      <td>2.0</td>\n",
       "      <td>7.0</td>\n",
       "      <td>1.0</td>\n",
       "      <td>1.0</td>\n",
       "      <td>4</td>\n",
       "      <td>198601.0</td>\n",
       "      <td>1.0</td>\n",
       "      <td>2.0</td>\n",
       "      <td>2.0</td>\n",
       "      <td>...</td>\n",
       "      <td>1.0</td>\n",
       "      <td>1.0</td>\n",
       "      <td>1.0</td>\n",
       "      <td>0.0</td>\n",
       "      <td>0.0</td>\n",
       "      <td>0.0</td>\n",
       "      <td>0.0</td>\n",
       "      <td>0.0</td>\n",
       "      <td>1.0</td>\n",
       "      <td>27</td>\n",
       "    </tr>\n",
       "    <tr>\n",
       "      <th>101105</th>\n",
       "      <td>235.7822</td>\n",
       "      <td>2.0</td>\n",
       "      <td>3.0</td>\n",
       "      <td>1.0</td>\n",
       "      <td>1.0</td>\n",
       "      <td>4</td>\n",
       "      <td>198607.0</td>\n",
       "      <td>5.0</td>\n",
       "      <td>2.0</td>\n",
       "      <td>2.0</td>\n",
       "      <td>...</td>\n",
       "      <td>1.0</td>\n",
       "      <td>1.0</td>\n",
       "      <td>3.0</td>\n",
       "      <td>0.0</td>\n",
       "      <td>0.0</td>\n",
       "      <td>0.0</td>\n",
       "      <td>0.0</td>\n",
       "      <td>0.0</td>\n",
       "      <td>0.0</td>\n",
       "      <td>39</td>\n",
       "    </tr>\n",
       "    <tr>\n",
       "      <th>101106</th>\n",
       "      <td>178.9513</td>\n",
       "      <td>2.0</td>\n",
       "      <td>4.0</td>\n",
       "      <td>0.0</td>\n",
       "      <td>2.0</td>\n",
       "      <td>2</td>\n",
       "      <td>198511.0</td>\n",
       "      <td>1.0</td>\n",
       "      <td>1.0</td>\n",
       "      <td>1.0</td>\n",
       "      <td>...</td>\n",
       "      <td>1.0</td>\n",
       "      <td>1.0</td>\n",
       "      <td>3.0</td>\n",
       "      <td>1.0</td>\n",
       "      <td>0.0</td>\n",
       "      <td>0.0</td>\n",
       "      <td>0.0</td>\n",
       "      <td>0.0</td>\n",
       "      <td>0.0</td>\n",
       "      <td>29</td>\n",
       "    </tr>\n",
       "    <tr>\n",
       "      <th>101108</th>\n",
       "      <td>192.4304</td>\n",
       "      <td>1.0</td>\n",
       "      <td>4.0</td>\n",
       "      <td>1.0</td>\n",
       "      <td>1.0</td>\n",
       "      <td>4</td>\n",
       "      <td>198607.0</td>\n",
       "      <td>1.0</td>\n",
       "      <td>6.0</td>\n",
       "      <td>6.0</td>\n",
       "      <td>...</td>\n",
       "      <td>2.0</td>\n",
       "      <td>1.0</td>\n",
       "      <td>2.0</td>\n",
       "      <td>0.0</td>\n",
       "      <td>1.0</td>\n",
       "      <td>0.0</td>\n",
       "      <td>1.0</td>\n",
       "      <td>0.0</td>\n",
       "      <td>1.0</td>\n",
       "      <td>53</td>\n",
       "    </tr>\n",
       "  </tbody>\n",
       "</table>\n",
       "<p>5 rows × 152 columns</p>\n",
       "</div>"
      ],
      "text/plain": [
       "         BYSTUWT  BYSEX  BYRACE  BYSTLANG  BYHOMLNG  BYSTLNG2   BYDOB_P  \\\n",
       "STU_ID                                                                    \n",
       "101102   28.2951    2.0     2.0       0.0       4.0         2  198605.0   \n",
       "101104  589.7248    2.0     7.0       1.0       1.0         4  198601.0   \n",
       "101105  235.7822    2.0     3.0       1.0       1.0         4  198607.0   \n",
       "101106  178.9513    2.0     4.0       0.0       2.0         2  198511.0   \n",
       "101108  192.4304    1.0     4.0       1.0       1.0         4  198607.0   \n",
       "\n",
       "        BYFCOMP  BYPARED  BYMOTHED  ...  BYS24D  BYS24E  BYS28  BYS71A  \\\n",
       "STU_ID                              ...                                  \n",
       "101102      1.0      5.0       5.0  ...     1.0     1.0    2.0     0.0   \n",
       "101104      1.0      2.0       2.0  ...     1.0     1.0    1.0     0.0   \n",
       "101105      5.0      2.0       2.0  ...     1.0     1.0    3.0     0.0   \n",
       "101106      1.0      1.0       1.0  ...     1.0     1.0    3.0     1.0   \n",
       "101108      1.0      6.0       6.0  ...     2.0     1.0    2.0     0.0   \n",
       "\n",
       "        BYS71B  BYS71C  BYS71D  BYS71E  BYS71F  F3ONET2CURR  \n",
       "STU_ID                                                       \n",
       "101102     0.0     0.0     0.0     1.0     0.0           29  \n",
       "101104     0.0     0.0     0.0     0.0     1.0           27  \n",
       "101105     0.0     0.0     0.0     0.0     0.0           39  \n",
       "101106     0.0     0.0     0.0     0.0     0.0           29  \n",
       "101108     1.0     0.0     1.0     0.0     1.0           53  \n",
       "\n",
       "[5 rows x 152 columns]"
      ]
     },
     "execution_count": 2,
     "metadata": {},
     "output_type": "execute_result"
    }
   ],
   "source": [
    "train = pd.read_csv('../data/train_ver04.csv', index_col='STU_ID')\n",
    "train.head()"
   ]
  },
  {
   "cell_type": "code",
   "execution_count": 3,
   "metadata": {},
   "outputs": [],
   "source": [
    "y = train.F3ONET2CURR\n",
    "x = train.drop(columns='F3ONET2CURR')"
   ]
  },
  {
   "cell_type": "code",
   "execution_count": 6,
   "metadata": {},
   "outputs": [
    {
     "data": {
      "text/plain": [
       "RandomForestClassifier(n_estimators=300, n_jobs=-1)"
      ]
     },
     "execution_count": 6,
     "metadata": {},
     "output_type": "execute_result"
    }
   ],
   "source": [
    "forest.fit(x,y)"
   ]
  },
  {
   "cell_type": "code",
   "execution_count": 7,
   "metadata": {
    "collapsed": true,
    "jupyter": {
     "outputs_hidden": true
    }
   },
   "outputs": [
    {
     "name": "stdout",
     "output_type": "stream",
     "text": [
      "BYSTUWT 0.016585803818228606\n",
      "BYSEX 0.014890365517149708\n",
      "BYRACE 0.014442835093745571\n",
      "BYSTLANG 0.014422935142362814\n",
      "BYHOMLNG 0.014178278335848666\n",
      "BYSTLNG2 0.014145463134718546\n",
      "BYDOB_P 0.014116175740754336\n",
      "BYFCOMP 0.014079747714187825\n",
      "BYPARED 0.014066978926729033\n",
      "BYMOTHED 0.014050417344360315\n",
      "BYFATHED 0.01403218061097037\n",
      "BYOCCUM 0.013971750217892103\n",
      "BYOCCUF 0.013689271447721287\n",
      "BYINCOME 0.013191909205970645\n",
      "BYSES1QU 0.013058937322039037\n",
      "BYSES2QU 0.012998979711634509\n",
      "BYSCHPRG 0.012774738260863153\n",
      "BYSQSTAT 0.012627060957509645\n",
      "BYTXSTAT 0.012464501652115045\n",
      "BYPQSTAT 0.012412955018627164\n",
      "BYTXCSTD 0.012244174871855711\n",
      "BYNELS2M 0.01208598529786669\n",
      "BYNELS2R 0.012064168636587587\n",
      "BYPISAME 0.011792279245149246\n",
      "BYPISARE 0.01149363722922327\n",
      "BYTXMIRR 0.011364445602515066\n",
      "BYTXMSTD 0.011344040149175737\n",
      "BYTX1MPP 0.011200590155633615\n",
      "BYTX2MPP 0.010599908964707382\n",
      "BYTX3MPP 0.010391579913073027\n",
      "BYTX4MPP 0.010263530102389257\n",
      "BYTX5MPP 0.009851816781331665\n",
      "BYTXRIRR 0.009707634540410648\n",
      "BYTXRSTD 0.009701642286247708\n",
      "BYTX1RPP 0.009609382782806174\n",
      "BYTX2RPP 0.009542654258727063\n",
      "BYTX3RPP 0.009515042435273052\n",
      "BYHMWRK 0.009508357957298045\n",
      "BYTVVIGM 0.009502147166235627\n",
      "BYWORKSY 0.009408269434253515\n",
      "BYWRKHRS 0.009377806496050271\n",
      "BYTEAQUA 0.009266124846973187\n",
      "BYTSTREL 0.009265823583493609\n",
      "BYURBAN 0.009072589477871793\n",
      "BYREGION 0.008812916169183988\n",
      "BY10FLP 0.008713044046829928\n",
      "BYSCSAF1 0.008708994416823384\n",
      "BYSCSAF2 0.008411474103056342\n",
      "F1RGPP2 0.008347006976604367\n",
      "F2HSATTM 0.008198767445378036\n",
      "F2EDLEVL 0.008153128304670219\n",
      "F2HSCPP2 0.007524744531538\n",
      "F2EVRGED 0.007399734195242795\n",
      "F2PSEEXM 0.0073639513383960955\n",
      "F2NAPP1P 0.007358301920744304\n",
      "F2NACC1P 0.007281963987174893\n",
      "F2NAPAID 0.007173855886438871\n",
      "F2EVRATT 0.007129338422680575\n",
      "F2PS1LVL 0.006980260394967795\n",
      "F2PS1SEC 0.00695955490112426\n",
      "F2PS1GRT 0.006522676490893189\n",
      "F2PS1LN 0.0065208542202786915\n",
      "F2PS1WKS 0.006510000170896046\n",
      "F2PS1NTY 0.0064340730394438165\n",
      "F2PS1OUT 0.006382664487040173\n",
      "F2HS2P_P 0.006375965841382519\n",
      "F2PSEND 0.006305929455088386\n",
      "F2SWITCH 0.006258111079117872\n",
      "F2MJR2_P 0.006115538646925343\n",
      "F2EVRJOB 0.00606527625363275\n",
      "F21STO_P 0.005981778492706123\n",
      "F2MARPAR 0.005913685666509716\n",
      "F2NLFE_P 0.00581578893342483\n",
      "F3NATTND 0.005779372098324646\n",
      "F3NUMPUB 0.0057274514248534265\n",
      "F3NUMPRIFOR 0.005715535987540893\n",
      "F3NUMPRINOT 0.005669946430136365\n",
      "F3NUM4YR 0.005610871986443812\n",
      "F3NUM2YR 0.0055916357912816\n",
      "F3NUMLT2 0.005540533511375407\n",
      "F3STLOANEVR 0.00553129344035329\n",
      "F3STLOANAMT 0.005499592430370973\n",
      "F3LIVARR 0.005435927359309166\n",
      "F3MARRAGE 0.005421867463296736\n",
      "F3PARAGE 0.0054172535064857434\n",
      "F3NUMDPNDNT 0.0053554391904526285\n",
      "F3REGION 0.005226157184288181\n",
      "F3TZSTOPGT4M 0.005152314126280453\n",
      "F3TZDEG1STRT 0.005077975704563522\n",
      "F3TZBCH1CIP2 0.005004977413212577\n",
      "F3TZBACHL23 0.0049585090223288305\n",
      "F3TZSTEM1CRED 0.004945482713402238\n",
      "F3TZSCENCRED 0.004919407463945083\n",
      "F3TZPS2BA 0.004888332098800819\n",
      "F3TZGPAALL 0.004851863187598504\n",
      "F3TZGPA1STSC 0.004764093860459322\n",
      "F3TZGPALAST 0.00471490021619575\n",
      "F3TZYR1ERN 0.004618792324345307\n",
      "F3TZYR2ERN 0.004540288288042627\n",
      "F3TZYR1GPA 0.004456305455905774\n",
      "F3TZYR2GPA 0.00443728714416588\n",
      "F3TZALABERN 0.004423844853718508\n",
      "F3TZALABGPA 0.004327591613652355\n",
      "F3TZASCIERN 0.004254040469658814\n",
      "F3TZASCIGPA 0.00422798867828181\n",
      "F3TZBIOLERN 0.00410141506964207\n",
      "F3TZBIOLGPA 0.0040679718111349865\n",
      "F3TZCALCERN 0.004041674101849287\n",
      "F3TZCALCGPA 0.003988657004515593\n",
      "F3TZCMTHERN 0.003493074842904712\n",
      "F3TZCMTHGPA 0.0033890955215761945\n",
      "F3TZENGRERN 0.003302854698755788\n",
      "F3TZENGRGPA 0.003233544802934017\n",
      "F3TZSTATERN 0.003209054622320824\n",
      "F3TZSTATGPA 0.00318123492583603\n",
      "F3TZCTEERN 0.003164294638829297\n",
      "F3TZCTEGPA 0.0031437179645560577\n",
      "F3TZNSTM1GPA 0.003053088686653587\n",
      "BYS20A 0.002975439210612759\n",
      "BYS20B 0.002945230625329804\n",
      "BYS20C 0.0028252259233405696\n",
      "BYS20D 0.0027361334850897114\n",
      "BYS20E 0.002714441421410055\n",
      "BYS20F 0.0026932679896117524\n",
      "BYS20G 0.0025868691863677037\n",
      "BYS20H 0.002538850994204442\n",
      "BYS20J 0.002531927224977996\n",
      "BYS21A 0.002445794054395753\n",
      "BYS21B 0.0023547787040516825\n",
      "BYS21D 0.0022395361451808043\n",
      "BYS21E 0.002186629768386907\n",
      "BYS22D 0.0021676309088643608\n",
      "BYS22F 0.0020720838092251736\n",
      "BYS22G 0.002039653978467722\n",
      "BYS22H 0.0019127074197605935\n",
      "BYS23A 0.0018992840450282322\n",
      "BYS23B 0.0018505815692163034\n",
      "BYS23C 0.001799909362647708\n",
      "BYS23D 0.0017652502497159655\n",
      "BYS24A 0.0017646437126184345\n",
      "BYS24B 0.0016744227373670225\n",
      "BYS24C 0.0015568213020476362\n",
      "BYS24D 0.0014390784411964508\n",
      "BYS24E 0.0014225886456096023\n",
      "BYS28 0.0012332013471396126\n",
      "BYS71A 0.0009485013343317482\n",
      "BYS71B 0.0008847829085897306\n",
      "BYS71C 0.0008634206750362339\n",
      "BYS71D 0.0008264468420487714\n",
      "BYS71E 0.0005540176407786878\n",
      "BYS71F 0.0\n"
     ]
    }
   ],
   "source": [
    "imp = forest.feature_importances_\n",
    "idx = np.argsort(imp)[::-1]\n",
    "labels = x.columns\n",
    "for i in range(len(labels)):\n",
    "    print(labels[i], imp[idx[i]])"
   ]
  },
  {
   "cell_type": "code",
   "execution_count": 10,
   "metadata": {},
   "outputs": [
    {
     "data": {
      "text/plain": [
       "(9955, 31)"
      ]
     },
     "execution_count": 10,
     "metadata": {},
     "output_type": "execute_result"
    }
   ],
   "source": [
    "x_filter = x[labels[imp > 0.01]]\n",
    "x_filter.shape"
   ]
  },
  {
   "cell_type": "code",
   "execution_count": 11,
   "metadata": {},
   "outputs": [
    {
     "data": {
      "text/plain": [
       "(9955, 151)"
      ]
     },
     "execution_count": 11,
     "metadata": {},
     "output_type": "execute_result"
    }
   ],
   "source": [
    "x.shape"
   ]
  },
  {
   "cell_type": "code",
   "execution_count": 12,
   "metadata": {},
   "outputs": [],
   "source": [
    "from sklearn.neighbors import KNeighborsClassifier"
   ]
  },
  {
   "cell_type": "code",
   "execution_count": 13,
   "metadata": {},
   "outputs": [],
   "source": [
    "from sklearn.pipeline import Pipeline\n",
    "from sklearn.metrics import accuracy_score"
   ]
  },
  {
   "cell_type": "code",
   "execution_count": 14,
   "metadata": {},
   "outputs": [],
   "source": [
    "from sklearn.preprocessing import StandardScaler , MinMaxScaler"
   ]
  },
  {
   "cell_type": "code",
   "execution_count": 33,
   "metadata": {},
   "outputs": [],
   "source": [
    "pipe = Pipeline([('전처리',StandardScaler()), ('알고리즘', KNeighborsClassifier())])"
   ]
  },
  {
   "cell_type": "code",
   "execution_count": 34,
   "metadata": {},
   "outputs": [],
   "source": [
    "# param = [\n",
    "#     {'알고리즘' : [KNeighborsClassifier()],\n",
    "#      '전처리' : [StandardScaler(), MinMaxScaler(),None],\n",
    "#      '알고리즘_n_neighbors' : np.arange(1,100),\n",
    "#      '알고리즘_weights' : ['uniform', 'distance'],\n",
    "#      '알고리즘_p' : [1,2]},\n",
    "    \n",
    "#     {'알고리즘' : [RandomForestClassifier()],\n",
    "#      '전처리' : [StandardScaler(), MinMaxScaler(),None],\n",
    "#      '알고리즘_n_neighbors' : [300],\n",
    "#      '알고리즘_criterion' : ['gini', 'entropy'],\n",
    "#      '알고리즘_max_depth' : [None] + list(np.arange(5,100))}]\n",
    "\n",
    "param = [\n",
    "    {'알고리즘':[KNeighborsClassifier()],\n",
    "     '전처리' : [StandardScaler()],\n",
    "     '알고리즘__n_neighbors': np.arange(1,100),\n",
    "     '알고리즘__weights': ['uniform','distance'],\n",
    "     '알고리즘__p':[1,2]},\n",
    "    {'알고리즘':[RandomForestClassifier()],\n",
    "     '전처리': [MinMaxScaler(), None],\n",
    "     '알고리즘__n_estimators': [300],\n",
    "     '알고리즘__criterion': ['gini','entropy'],\n",
    "     '알고리즘__max_depth': [None]+list(np.arange(5,100))}]"
   ]
  },
  {
   "cell_type": "code",
   "execution_count": 35,
   "metadata": {},
   "outputs": [],
   "source": [
    "from sklearn.model_selection import GridSearchCV"
   ]
  },
  {
   "cell_type": "code",
   "execution_count": 36,
   "metadata": {},
   "outputs": [],
   "source": [
    "grid_full = GridSearchCV(estimator=pipe, param_grid=param,\n",
    "                          scoring='accuracy', cv=4, n_jobs=-1, verbose=1)"
   ]
  },
  {
   "cell_type": "code",
   "execution_count": 37,
   "metadata": {},
   "outputs": [
    {
     "name": "stdout",
     "output_type": "stream",
     "text": [
      "Fitting 4 folds for each of 780 candidates, totalling 3120 fits\n"
     ]
    },
    {
     "name": "stderr",
     "output_type": "stream",
     "text": [
      "[Parallel(n_jobs=-1)]: Using backend LokyBackend with 8 concurrent workers.\n",
      "[Parallel(n_jobs=-1)]: Done  34 tasks      | elapsed:   19.2s\n",
      "[Parallel(n_jobs=-1)]: Done 184 tasks      | elapsed:  1.2min\n",
      "[Parallel(n_jobs=-1)]: Done 434 tasks      | elapsed:  2.8min\n",
      "[Parallel(n_jobs=-1)]: Done 784 tasks      | elapsed:  5.1min\n",
      "[Parallel(n_jobs=-1)]: Done 1234 tasks      | elapsed:  8.2min\n",
      "[Parallel(n_jobs=-1)]: Done 1784 tasks      | elapsed: 14.8min\n",
      "[Parallel(n_jobs=-1)]: Done 2434 tasks      | elapsed: 35.0min\n",
      "[Parallel(n_jobs=-1)]: Done 3120 out of 3120 | elapsed: 91.1min finished\n"
     ]
    },
    {
     "data": {
      "text/plain": [
       "GridSearchCV(cv=4,\n",
       "             estimator=Pipeline(steps=[('전처리', StandardScaler()),\n",
       "                                       ('알고리즘', KNeighborsClassifier())]),\n",
       "             n_jobs=-1,\n",
       "             param_grid=[{'알고리즘': [KNeighborsClassifier()],\n",
       "                          '알고리즘__n_neighbors': array([ 1,  2,  3,  4,  5,  6,  7,  8,  9, 10, 11, 12, 13, 14, 15, 16, 17,\n",
       "       18, 19, 20, 21, 22, 23, 24, 25, 26, 27, 28, 29, 30, 31, 32, 33, 34,\n",
       "       35, 36, 37, 38, 39, 40, 41, 42, 43, 44, 45, 46, 47, 48, 49, 50, 51,\n",
       "       52, 53, 54, 55, 56, 57, 58,...\n",
       "                          '알고리즘__weights': ['uniform', 'distance'],\n",
       "                          '전처리': [StandardScaler()]},\n",
       "                         {'알고리즘': [RandomForestClassifier(max_depth=10,\n",
       "                                                          n_estimators=300)],\n",
       "                          '알고리즘__criterion': ['gini', 'entropy'],\n",
       "                          '알고리즘__max_depth': [None, 5, 6, 7, 8, 9, 10, 11, 12,\n",
       "                                              13, 14, 15, 16, 17, 18, 19, 20,\n",
       "                                              21, 22, 23, 24, 25, 26, 27, 28,\n",
       "                                              29, 30, 31, 32, 33, ...],\n",
       "                          '알고리즘__n_estimators': [300],\n",
       "                          '전처리': [MinMaxScaler(), None]}],\n",
       "             scoring='accuracy', verbose=1)"
      ]
     },
     "execution_count": 37,
     "metadata": {},
     "output_type": "execute_result"
    }
   ],
   "source": [
    "grid_full.fit(x_filter, y)"
   ]
  },
  {
   "cell_type": "code",
   "execution_count": 38,
   "metadata": {},
   "outputs": [
    {
     "data": {
      "text/plain": [
       "0.2342551196324923"
      ]
     },
     "execution_count": 38,
     "metadata": {},
     "output_type": "execute_result"
    }
   ],
   "source": [
    "grid_full.best_score_"
   ]
  },
  {
   "cell_type": "code",
   "execution_count": 40,
   "metadata": {},
   "outputs": [
    {
     "data": {
      "text/plain": [
       "Pipeline(steps=[('전처리', None),\n",
       "                ('알고리즘',\n",
       "                 RandomForestClassifier(max_depth=10, n_estimators=300))])"
      ]
     },
     "execution_count": 40,
     "metadata": {},
     "output_type": "execute_result"
    }
   ],
   "source": [
    "grid_full.best_estimator_"
   ]
  },
  {
   "cell_type": "code",
   "execution_count": 4,
   "metadata": {},
   "outputs": [],
   "source": [
    "from sklearn.model_selection import train_test_split"
   ]
  },
  {
   "cell_type": "code",
   "execution_count": 5,
   "metadata": {},
   "outputs": [],
   "source": [
    "x_train, x_test, y_train, y_test = train_test_split(x,y, stratify=y)"
   ]
  },
  {
   "cell_type": "code",
   "execution_count": 6,
   "metadata": {},
   "outputs": [
    {
     "data": {
      "text/plain": [
       "43    0.145058\n",
       "41    0.088669\n",
       "11    0.086526\n",
       "29    0.073399\n",
       "25    0.071256\n",
       "35    0.068444\n",
       "13    0.058398\n",
       "51    0.048219\n",
       "39    0.046209\n",
       "31    0.041789\n",
       "53    0.036030\n",
       "27    0.034557\n",
       "47    0.032949\n",
       "49    0.032146\n",
       "15    0.029467\n",
       "33    0.025717\n",
       "21    0.023172\n",
       "17    0.020493\n",
       "19    0.018886\n",
       "37    0.018618\n",
       "Name: F3ONET2CURR, dtype: float64"
      ]
     },
     "execution_count": 6,
     "metadata": {},
     "output_type": "execute_result"
    }
   ],
   "source": [
    "y_train.value_counts(normalize=True)"
   ]
  },
  {
   "cell_type": "code",
   "execution_count": 7,
   "metadata": {},
   "outputs": [
    {
     "data": {
      "text/plain": [
       "43    0.145038\n",
       "41    0.088791\n",
       "11    0.086782\n",
       "29    0.073524\n",
       "25    0.071113\n",
       "35    0.068702\n",
       "13    0.058658\n",
       "51    0.048212\n",
       "39    0.046203\n",
       "31    0.041784\n",
       "53    0.035757\n",
       "27    0.034552\n",
       "47    0.032945\n",
       "49    0.032141\n",
       "15    0.029329\n",
       "33    0.025713\n",
       "21    0.022901\n",
       "17    0.020490\n",
       "19    0.018883\n",
       "37    0.018481\n",
       "Name: F3ONET2CURR, dtype: float64"
      ]
     },
     "execution_count": 7,
     "metadata": {},
     "output_type": "execute_result"
    }
   ],
   "source": [
    "y_test.value_counts(normalize=True)"
   ]
  },
  {
   "cell_type": "code",
   "execution_count": 8,
   "metadata": {},
   "outputs": [],
   "source": [
    "import joblib\n",
    "with open('../data/my_val.pkl3', 'wb') as f:\n",
    "    joblib.dump({'x':x_train,\n",
    "                 'y':y_train,\n",
    "                 'val_x':x_test,\n",
    "                 'val_y':y_test},f)"
   ]
  },
  {
   "cell_type": "markdown",
   "metadata": {},
   "source": [
    "## 2. Baseline model tunning"
   ]
  },
  {
   "cell_type": "code",
   "execution_count": 9,
   "metadata": {},
   "outputs": [],
   "source": [
    "import joblib\n",
    "\n",
    "import pandas as pd\n",
    "import numpy as np\n",
    "\n",
    "\n",
    "from sklearn.pipeline import Pipeline\n",
    "from sklearn.ensemble import RandomForestClassifier\n",
    "from sklearn.preprocessing import StandardScaler , MinMaxScaler\n",
    "from sklearn.pipeline import Pipeline\n",
    "from sklearn.metrics import accuracy_score"
   ]
  },
  {
   "cell_type": "code",
   "execution_count": 10,
   "metadata": {},
   "outputs": [],
   "source": [
    "with open('../data/my_val.pkl3', 'rb') as f:\n",
    "    data = joblib.load(f)\n",
    "locals().update(data)\n",
    "del data"
   ]
  },
  {
   "cell_type": "code",
   "execution_count": 11,
   "metadata": {},
   "outputs": [
    {
     "data": {
      "text/html": [
       "<div>\n",
       "<style scoped>\n",
       "    .dataframe tbody tr th:only-of-type {\n",
       "        vertical-align: middle;\n",
       "    }\n",
       "\n",
       "    .dataframe tbody tr th {\n",
       "        vertical-align: top;\n",
       "    }\n",
       "\n",
       "    .dataframe thead th {\n",
       "        text-align: right;\n",
       "    }\n",
       "</style>\n",
       "<table border=\"1\" class=\"dataframe\">\n",
       "  <thead>\n",
       "    <tr style=\"text-align: right;\">\n",
       "      <th></th>\n",
       "      <th>BYSTUWT</th>\n",
       "      <th>BYSEX</th>\n",
       "      <th>BYRACE</th>\n",
       "      <th>BYSTLANG</th>\n",
       "      <th>BYHOMLNG</th>\n",
       "      <th>BYSTLNG2</th>\n",
       "      <th>BYDOB_P</th>\n",
       "      <th>BYFCOMP</th>\n",
       "      <th>BYPARED</th>\n",
       "      <th>BYMOTHED</th>\n",
       "      <th>...</th>\n",
       "      <th>BYS24C</th>\n",
       "      <th>BYS24D</th>\n",
       "      <th>BYS24E</th>\n",
       "      <th>BYS28</th>\n",
       "      <th>BYS71A</th>\n",
       "      <th>BYS71B</th>\n",
       "      <th>BYS71C</th>\n",
       "      <th>BYS71D</th>\n",
       "      <th>BYS71E</th>\n",
       "      <th>BYS71F</th>\n",
       "    </tr>\n",
       "    <tr>\n",
       "      <th>STU_ID</th>\n",
       "      <th></th>\n",
       "      <th></th>\n",
       "      <th></th>\n",
       "      <th></th>\n",
       "      <th></th>\n",
       "      <th></th>\n",
       "      <th></th>\n",
       "      <th></th>\n",
       "      <th></th>\n",
       "      <th></th>\n",
       "      <th></th>\n",
       "      <th></th>\n",
       "      <th></th>\n",
       "      <th></th>\n",
       "      <th></th>\n",
       "      <th></th>\n",
       "      <th></th>\n",
       "      <th></th>\n",
       "      <th></th>\n",
       "      <th></th>\n",
       "      <th></th>\n",
       "    </tr>\n",
       "  </thead>\n",
       "  <tbody>\n",
       "    <tr>\n",
       "      <th>310221</th>\n",
       "      <td>575.7933</td>\n",
       "      <td>2.0</td>\n",
       "      <td>6.0</td>\n",
       "      <td>1.0</td>\n",
       "      <td>1.0</td>\n",
       "      <td>4</td>\n",
       "      <td>198412.0</td>\n",
       "      <td>2.0</td>\n",
       "      <td>4.0</td>\n",
       "      <td>4.0</td>\n",
       "      <td>...</td>\n",
       "      <td>4.0</td>\n",
       "      <td>1.0</td>\n",
       "      <td>1.0</td>\n",
       "      <td>2.0</td>\n",
       "      <td>0.0</td>\n",
       "      <td>1.0</td>\n",
       "      <td>0.0</td>\n",
       "      <td>0.0</td>\n",
       "      <td>1.0</td>\n",
       "      <td>0.0</td>\n",
       "    </tr>\n",
       "    <tr>\n",
       "      <th>228218</th>\n",
       "      <td>281.6741</td>\n",
       "      <td>1.0</td>\n",
       "      <td>7.0</td>\n",
       "      <td>1.0</td>\n",
       "      <td>1.0</td>\n",
       "      <td>4</td>\n",
       "      <td>198507.0</td>\n",
       "      <td>6.0</td>\n",
       "      <td>1.0</td>\n",
       "      <td>1.0</td>\n",
       "      <td>...</td>\n",
       "      <td>3.0</td>\n",
       "      <td>1.0</td>\n",
       "      <td>1.0</td>\n",
       "      <td>2.0</td>\n",
       "      <td>0.0</td>\n",
       "      <td>0.0</td>\n",
       "      <td>0.0</td>\n",
       "      <td>0.0</td>\n",
       "      <td>0.0</td>\n",
       "      <td>0.0</td>\n",
       "    </tr>\n",
       "    <tr>\n",
       "      <th>179231</th>\n",
       "      <td>275.0641</td>\n",
       "      <td>1.0</td>\n",
       "      <td>7.0</td>\n",
       "      <td>1.0</td>\n",
       "      <td>1.0</td>\n",
       "      <td>4</td>\n",
       "      <td>198607.0</td>\n",
       "      <td>1.0</td>\n",
       "      <td>4.0</td>\n",
       "      <td>4.0</td>\n",
       "      <td>...</td>\n",
       "      <td>3.0</td>\n",
       "      <td>1.0</td>\n",
       "      <td>1.0</td>\n",
       "      <td>3.0</td>\n",
       "      <td>0.0</td>\n",
       "      <td>0.0</td>\n",
       "      <td>0.0</td>\n",
       "      <td>0.0</td>\n",
       "      <td>0.0</td>\n",
       "      <td>0.0</td>\n",
       "    </tr>\n",
       "    <tr>\n",
       "      <th>215101</th>\n",
       "      <td>149.2901</td>\n",
       "      <td>2.0</td>\n",
       "      <td>3.0</td>\n",
       "      <td>1.0</td>\n",
       "      <td>1.0</td>\n",
       "      <td>4</td>\n",
       "      <td>198507.0</td>\n",
       "      <td>2.0</td>\n",
       "      <td>3.0</td>\n",
       "      <td>1.0</td>\n",
       "      <td>...</td>\n",
       "      <td>4.0</td>\n",
       "      <td>1.0</td>\n",
       "      <td>3.0</td>\n",
       "      <td>3.0</td>\n",
       "      <td>0.0</td>\n",
       "      <td>0.0</td>\n",
       "      <td>0.0</td>\n",
       "      <td>0.0</td>\n",
       "      <td>0.0</td>\n",
       "      <td>0.0</td>\n",
       "    </tr>\n",
       "    <tr>\n",
       "      <th>245121</th>\n",
       "      <td>186.5067</td>\n",
       "      <td>1.0</td>\n",
       "      <td>7.0</td>\n",
       "      <td>1.0</td>\n",
       "      <td>1.0</td>\n",
       "      <td>4</td>\n",
       "      <td>198601.0</td>\n",
       "      <td>5.0</td>\n",
       "      <td>3.0</td>\n",
       "      <td>3.0</td>\n",
       "      <td>...</td>\n",
       "      <td>2.0</td>\n",
       "      <td>2.0</td>\n",
       "      <td>1.0</td>\n",
       "      <td>2.0</td>\n",
       "      <td>0.0</td>\n",
       "      <td>1.0</td>\n",
       "      <td>0.0</td>\n",
       "      <td>0.0</td>\n",
       "      <td>0.0</td>\n",
       "      <td>0.0</td>\n",
       "    </tr>\n",
       "  </tbody>\n",
       "</table>\n",
       "<p>5 rows × 151 columns</p>\n",
       "</div>"
      ],
      "text/plain": [
       "         BYSTUWT  BYSEX  BYRACE  BYSTLANG  BYHOMLNG  BYSTLNG2   BYDOB_P  \\\n",
       "STU_ID                                                                    \n",
       "310221  575.7933    2.0     6.0       1.0       1.0         4  198412.0   \n",
       "228218  281.6741    1.0     7.0       1.0       1.0         4  198507.0   \n",
       "179231  275.0641    1.0     7.0       1.0       1.0         4  198607.0   \n",
       "215101  149.2901    2.0     3.0       1.0       1.0         4  198507.0   \n",
       "245121  186.5067    1.0     7.0       1.0       1.0         4  198601.0   \n",
       "\n",
       "        BYFCOMP  BYPARED  BYMOTHED  ...  BYS24C  BYS24D  BYS24E  BYS28  \\\n",
       "STU_ID                              ...                                  \n",
       "310221      2.0      4.0       4.0  ...     4.0     1.0     1.0    2.0   \n",
       "228218      6.0      1.0       1.0  ...     3.0     1.0     1.0    2.0   \n",
       "179231      1.0      4.0       4.0  ...     3.0     1.0     1.0    3.0   \n",
       "215101      2.0      3.0       1.0  ...     4.0     1.0     3.0    3.0   \n",
       "245121      5.0      3.0       3.0  ...     2.0     2.0     1.0    2.0   \n",
       "\n",
       "        BYS71A  BYS71B  BYS71C  BYS71D  BYS71E  BYS71F  \n",
       "STU_ID                                                  \n",
       "310221     0.0     1.0     0.0     0.0     1.0     0.0  \n",
       "228218     0.0     0.0     0.0     0.0     0.0     0.0  \n",
       "179231     0.0     0.0     0.0     0.0     0.0     0.0  \n",
       "215101     0.0     0.0     0.0     0.0     0.0     0.0  \n",
       "245121     0.0     1.0     0.0     0.0     0.0     0.0  \n",
       "\n",
       "[5 rows x 151 columns]"
      ]
     },
     "execution_count": 11,
     "metadata": {},
     "output_type": "execute_result"
    }
   ],
   "source": [
    "test = pd.read_csv('../data/test_ver04.csv', index_col='STU_ID')\n",
    "test = test.drop(columns='F3ONET2CURR')\n",
    "test.head()"
   ]
  },
  {
   "cell_type": "code",
   "execution_count": 20,
   "metadata": {},
   "outputs": [],
   "source": [
    "# base_model = RandomForestClassifier(max_depth=10, n_estimators=300)\n",
    "pipe = Pipeline([('전처리',MinMaxScaler()), \n",
    "                ('알고리즘', RandomForestClassifier(max_depth=20, n_estimators=300))])    \n",
    "\n",
    "# pipe = Pipeline([('전처리',MinMaxScaler()), \n",
    "#                 ('알고리즘', RandomForestClassifier(max_depth=16, n_estimators=1000, criterion='entropy', max_features='auto', min_samples_split=2,n_jobs=-1))])   "
   ]
  },
  {
   "cell_type": "code",
   "execution_count": 21,
   "metadata": {},
   "outputs": [
    {
     "data": {
      "text/plain": [
       "Pipeline(steps=[('전처리', MinMaxScaler()),\n",
       "                ('알고리즘',\n",
       "                 RandomForestClassifier(max_depth=20, n_estimators=300))])"
      ]
     },
     "execution_count": 21,
     "metadata": {},
     "output_type": "execute_result"
    }
   ],
   "source": [
    "# base_model.fit(x, y)\n",
    "pipe.fit(x, y)"
   ]
  },
  {
   "cell_type": "code",
   "execution_count": 22,
   "metadata": {},
   "outputs": [
    {
     "data": {
      "text/plain": [
       "0.2531137002812374"
      ]
     },
     "execution_count": 22,
     "metadata": {},
     "output_type": "execute_result"
    }
   ],
   "source": [
    "from sklearn.metrics import accuracy_score\n",
    "accuracy_score(val_y, pipe.predict(val_x))"
   ]
  },
  {
   "cell_type": "code",
   "execution_count": 23,
   "metadata": {},
   "outputs": [
    {
     "data": {
      "text/plain": [
       "array([43, 51, 43, ..., 43, 43, 15], dtype=int64)"
      ]
     },
     "execution_count": 23,
     "metadata": {},
     "output_type": "execute_result"
    }
   ],
   "source": [
    "pred = pipe.predict(test)\n",
    "pred"
   ]
  },
  {
   "cell_type": "code",
   "execution_count": 24,
   "metadata": {},
   "outputs": [
    {
     "data": {
      "text/plain": [
       "(2479,)"
      ]
     },
     "execution_count": 24,
     "metadata": {},
     "output_type": "execute_result"
    }
   ],
   "source": [
    "pred.shape"
   ]
  },
  {
   "cell_type": "code",
   "execution_count": 25,
   "metadata": {},
   "outputs": [
    {
     "data": {
      "text/plain": [
       "(2479, 151)"
      ]
     },
     "execution_count": 25,
     "metadata": {},
     "output_type": "execute_result"
    }
   ],
   "source": [
    "test.shape"
   ]
  },
  {
   "cell_type": "code",
   "execution_count": 26,
   "metadata": {},
   "outputs": [
    {
     "data": {
      "text/html": [
       "<div>\n",
       "<style scoped>\n",
       "    .dataframe tbody tr th:only-of-type {\n",
       "        vertical-align: middle;\n",
       "    }\n",
       "\n",
       "    .dataframe tbody tr th {\n",
       "        vertical-align: top;\n",
       "    }\n",
       "\n",
       "    .dataframe thead th {\n",
       "        text-align: right;\n",
       "    }\n",
       "</style>\n",
       "<table border=\"1\" class=\"dataframe\">\n",
       "  <thead>\n",
       "    <tr style=\"text-align: right;\">\n",
       "      <th></th>\n",
       "      <th>STU_ID</th>\n",
       "      <th>PRED</th>\n",
       "    </tr>\n",
       "  </thead>\n",
       "  <tbody>\n",
       "    <tr>\n",
       "      <th>0</th>\n",
       "      <td>310221</td>\n",
       "      <td>43</td>\n",
       "    </tr>\n",
       "    <tr>\n",
       "      <th>1</th>\n",
       "      <td>228218</td>\n",
       "      <td>51</td>\n",
       "    </tr>\n",
       "    <tr>\n",
       "      <th>2</th>\n",
       "      <td>179231</td>\n",
       "      <td>43</td>\n",
       "    </tr>\n",
       "    <tr>\n",
       "      <th>3</th>\n",
       "      <td>215101</td>\n",
       "      <td>41</td>\n",
       "    </tr>\n",
       "    <tr>\n",
       "      <th>4</th>\n",
       "      <td>245121</td>\n",
       "      <td>51</td>\n",
       "    </tr>\n",
       "    <tr>\n",
       "      <th>...</th>\n",
       "      <td>...</td>\n",
       "      <td>...</td>\n",
       "    </tr>\n",
       "    <tr>\n",
       "      <th>2474</th>\n",
       "      <td>439214</td>\n",
       "      <td>11</td>\n",
       "    </tr>\n",
       "    <tr>\n",
       "      <th>2475</th>\n",
       "      <td>106206</td>\n",
       "      <td>13</td>\n",
       "    </tr>\n",
       "    <tr>\n",
       "      <th>2476</th>\n",
       "      <td>272131</td>\n",
       "      <td>43</td>\n",
       "    </tr>\n",
       "    <tr>\n",
       "      <th>2477</th>\n",
       "      <td>350228</td>\n",
       "      <td>43</td>\n",
       "    </tr>\n",
       "    <tr>\n",
       "      <th>2478</th>\n",
       "      <td>297108</td>\n",
       "      <td>15</td>\n",
       "    </tr>\n",
       "  </tbody>\n",
       "</table>\n",
       "<p>2479 rows × 2 columns</p>\n",
       "</div>"
      ],
      "text/plain": [
       "      STU_ID  PRED\n",
       "0     310221    43\n",
       "1     228218    51\n",
       "2     179231    43\n",
       "3     215101    41\n",
       "4     245121    51\n",
       "...      ...   ...\n",
       "2474  439214    11\n",
       "2475  106206    13\n",
       "2476  272131    43\n",
       "2477  350228    43\n",
       "2478  297108    15\n",
       "\n",
       "[2479 rows x 2 columns]"
      ]
     },
     "execution_count": 26,
     "metadata": {},
     "output_type": "execute_result"
    }
   ],
   "source": [
    "submission = pd.DataFrame(pred, index=test.index, columns=['PRED']).reset_index()\n",
    "submission"
   ]
  },
  {
   "cell_type": "code",
   "execution_count": 27,
   "metadata": {},
   "outputs": [],
   "source": [
    "submission.to_csv('my_pred36.csv', index=False)"
   ]
  },
  {
   "cell_type": "code",
   "execution_count": null,
   "metadata": {},
   "outputs": [],
   "source": []
  }
 ],
 "metadata": {
  "kernelspec": {
   "display_name": "Python 3",
   "language": "python",
   "name": "python3"
  },
  "language_info": {
   "codemirror_mode": {
    "name": "ipython",
    "version": 3
   },
   "file_extension": ".py",
   "mimetype": "text/x-python",
   "name": "python",
   "nbconvert_exporter": "python",
   "pygments_lexer": "ipython3",
   "version": "3.8.3"
  }
 },
 "nbformat": 4,
 "nbformat_minor": 4
}
