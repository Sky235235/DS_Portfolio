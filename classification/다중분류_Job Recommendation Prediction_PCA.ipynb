{
 "cells": [
  {
   "cell_type": "code",
   "execution_count": 1,
   "metadata": {},
   "outputs": [],
   "source": [
    "import pandas as pd\n",
    "import numpy as np\n",
    "\n",
    "#시각화\n",
    "import matplotlib.pyplot as plt\n",
    "import seaborn as sns\n",
    "plt.rc('axes', unicode_minus=False)\n",
    "%matplotlib inline"
   ]
  },
  {
   "cell_type": "code",
   "execution_count": 2,
   "metadata": {},
   "outputs": [],
   "source": [
    "import joblib\n",
    "\n",
    "import pandas as pd\n",
    "import numpy as np\n",
    "\n",
    "\n",
    "from sklearn.pipeline import Pipeline\n",
    "from sklearn.ensemble import RandomForestClassifier\n",
    "from sklearn.preprocessing import StandardScaler , MinMaxScaler\n",
    "from sklearn.pipeline import Pipeline\n",
    "from sklearn.metrics import accuracy_score"
   ]
  },
  {
   "cell_type": "code",
   "execution_count": 3,
   "metadata": {},
   "outputs": [],
   "source": [
    "with open('../data/my_val.pkl', 'rb') as f:\n",
    "    data = joblib.load(f)\n",
    "locals().update(data)\n",
    "del data\n",
    "np.random.seed(1234)"
   ]
  },
  {
   "cell_type": "code",
   "execution_count": 8,
   "metadata": {},
   "outputs": [
    {
     "data": {
      "text/plain": [
       "(7466, 151)"
      ]
     },
     "execution_count": 8,
     "metadata": {},
     "output_type": "execute_result"
    }
   ],
   "source": [
    "x.shape"
   ]
  },
  {
   "cell_type": "code",
   "execution_count": 62,
   "metadata": {},
   "outputs": [],
   "source": [
    "from sklearn.decomposition import PCA, KernelPCA"
   ]
  },
  {
   "cell_type": "code",
   "execution_count": 10,
   "metadata": {},
   "outputs": [
    {
     "data": {
      "text/plain": [
       "PCA()"
      ]
     },
     "execution_count": 10,
     "metadata": {},
     "output_type": "execute_result"
    }
   ],
   "source": [
    "pca = PCA()\n",
    "pca.fit(x)"
   ]
  },
  {
   "cell_type": "code",
   "execution_count": 12,
   "metadata": {
    "collapsed": true,
    "jupyter": {
     "outputs_hidden": true
    }
   },
   "outputs": [
    {
     "data": {
      "text/plain": [
       "array([0.99960456, 0.99996423, 0.99998121, 0.99999062, 0.99999494,\n",
       "       0.9999975 , 0.99999843, 0.99999898, 0.99999922, 0.99999939,\n",
       "       0.99999951, 0.99999961, 0.99999968, 0.99999973, 0.99999976,\n",
       "       0.99999979, 0.99999981, 0.99999983, 0.99999985, 0.99999986,\n",
       "       0.99999988, 0.99999989, 0.99999989, 0.9999999 , 0.9999999 ,\n",
       "       0.99999991, 0.99999991, 0.99999992, 0.99999992, 0.99999993,\n",
       "       0.99999993, 0.99999993, 0.99999994, 0.99999994, 0.99999994,\n",
       "       0.99999994, 0.99999995, 0.99999995, 0.99999995, 0.99999995,\n",
       "       0.99999996, 0.99999996, 0.99999996, 0.99999996, 0.99999996,\n",
       "       0.99999996, 0.99999997, 0.99999997, 0.99999997, 0.99999997,\n",
       "       0.99999997, 0.99999997, 0.99999997, 0.99999997, 0.99999998,\n",
       "       0.99999998, 0.99999998, 0.99999998, 0.99999998, 0.99999998,\n",
       "       0.99999998, 0.99999998, 0.99999998, 0.99999998, 0.99999998,\n",
       "       0.99999998, 0.99999998, 0.99999998, 0.99999999, 0.99999999,\n",
       "       0.99999999, 0.99999999, 0.99999999, 0.99999999, 0.99999999,\n",
       "       0.99999999, 0.99999999, 0.99999999, 0.99999999, 0.99999999,\n",
       "       0.99999999, 0.99999999, 0.99999999, 0.99999999, 0.99999999,\n",
       "       0.99999999, 0.99999999, 0.99999999, 0.99999999, 0.99999999,\n",
       "       0.99999999, 0.99999999, 0.99999999, 0.99999999, 0.99999999,\n",
       "       1.        , 1.        , 1.        , 1.        , 1.        ,\n",
       "       1.        , 1.        , 1.        , 1.        , 1.        ,\n",
       "       1.        , 1.        , 1.        , 1.        , 1.        ,\n",
       "       1.        , 1.        , 1.        , 1.        , 1.        ,\n",
       "       1.        , 1.        , 1.        , 1.        , 1.        ,\n",
       "       1.        , 1.        , 1.        , 1.        , 1.        ,\n",
       "       1.        , 1.        , 1.        , 1.        , 1.        ,\n",
       "       1.        , 1.        , 1.        , 1.        , 1.        ,\n",
       "       1.        , 1.        , 1.        , 1.        , 1.        ,\n",
       "       1.        , 1.        , 1.        , 1.        , 1.        ,\n",
       "       1.        , 1.        , 1.        , 1.        , 1.        ,\n",
       "       1.        ])"
      ]
     },
     "execution_count": 12,
     "metadata": {},
     "output_type": "execute_result"
    }
   ],
   "source": [
    "cumsum = np.cumsum(pca.explained_variance_ratio_)\n",
    "cumsum"
   ]
  },
  {
   "cell_type": "code",
   "execution_count": 13,
   "metadata": {},
   "outputs": [],
   "source": [
    "d = np.argmax(cumsum >= 0.95) + 1"
   ]
  },
  {
   "cell_type": "code",
   "execution_count": 70,
   "metadata": {},
   "outputs": [],
   "source": [
    "# pca = PCA(n_components=100)\n",
    "# x_reduced = pca.fit_transform(x)\n",
    "\n",
    "rbf_pca = KernelPCA(n_components=100, kernel='rbf', gamma=0.01)\n",
    "x_reduced = rbf_pca.fit_transform(x)"
   ]
  },
  {
   "cell_type": "code",
   "execution_count": 71,
   "metadata": {},
   "outputs": [
    {
     "data": {
      "text/plain": [
       "array([[-0.00085582, -0.00103312, -0.00056571, ..., -0.00021124,\n",
       "        -0.00015856, -0.00013764],\n",
       "       [-0.00085706, -0.00103475, -0.00056732, ..., -0.00030863,\n",
       "        -0.0002328 , -0.00020227],\n",
       "       [-0.00085582, -0.00103313, -0.00056572, ..., -0.00021157,\n",
       "        -0.00015881, -0.00013786],\n",
       "       ...,\n",
       "       [-0.00085581, -0.00103311, -0.0005657 , ..., -0.00021093,\n",
       "        -0.00015832, -0.00013743],\n",
       "       [-0.00085581, -0.00103311, -0.0005657 , ..., -0.00021093,\n",
       "        -0.00015832, -0.00013743],\n",
       "       [-0.00085592, -0.00103326, -0.00056585, ..., -0.00021738,\n",
       "        -0.00016322, -0.00014169]])"
      ]
     },
     "execution_count": 71,
     "metadata": {},
     "output_type": "execute_result"
    }
   ],
   "source": [
    "x_reduced"
   ]
  },
  {
   "cell_type": "code",
   "execution_count": 74,
   "metadata": {},
   "outputs": [],
   "source": [
    "pipe = Pipeline([('전처리',MinMaxScaler()), \n",
    "                ('알고리즘', RandomForestClassifier(max_depth=16, n_estimators=300))]) "
   ]
  },
  {
   "cell_type": "code",
   "execution_count": 75,
   "metadata": {},
   "outputs": [
    {
     "data": {
      "text/plain": [
       "Pipeline(steps=[('전처리', MinMaxScaler()),\n",
       "                ('알고리즘',\n",
       "                 RandomForestClassifier(max_depth=16, n_estimators=300))])"
      ]
     },
     "execution_count": 75,
     "metadata": {},
     "output_type": "execute_result"
    }
   ],
   "source": [
    "pipe.fit(x_reduced, y)"
   ]
  },
  {
   "cell_type": "code",
   "execution_count": 49,
   "metadata": {},
   "outputs": [
    {
     "data": {
      "text/html": [
       "<div>\n",
       "<style scoped>\n",
       "    .dataframe tbody tr th:only-of-type {\n",
       "        vertical-align: middle;\n",
       "    }\n",
       "\n",
       "    .dataframe tbody tr th {\n",
       "        vertical-align: top;\n",
       "    }\n",
       "\n",
       "    .dataframe thead th {\n",
       "        text-align: right;\n",
       "    }\n",
       "</style>\n",
       "<table border=\"1\" class=\"dataframe\">\n",
       "  <thead>\n",
       "    <tr style=\"text-align: right;\">\n",
       "      <th></th>\n",
       "      <th>BYSTUWT</th>\n",
       "      <th>BYSEX</th>\n",
       "      <th>BYRACE</th>\n",
       "      <th>BYSTLANG</th>\n",
       "      <th>BYHOMLNG</th>\n",
       "      <th>BYSTLNG2</th>\n",
       "      <th>BYDOB_P</th>\n",
       "      <th>BYFCOMP</th>\n",
       "      <th>BYPARED</th>\n",
       "      <th>BYMOTHED</th>\n",
       "      <th>...</th>\n",
       "      <th>BYS24C</th>\n",
       "      <th>BYS24D</th>\n",
       "      <th>BYS24E</th>\n",
       "      <th>BYS28</th>\n",
       "      <th>BYS71A</th>\n",
       "      <th>BYS71B</th>\n",
       "      <th>BYS71C</th>\n",
       "      <th>BYS71D</th>\n",
       "      <th>BYS71E</th>\n",
       "      <th>BYS71F</th>\n",
       "    </tr>\n",
       "    <tr>\n",
       "      <th>STU_ID</th>\n",
       "      <th></th>\n",
       "      <th></th>\n",
       "      <th></th>\n",
       "      <th></th>\n",
       "      <th></th>\n",
       "      <th></th>\n",
       "      <th></th>\n",
       "      <th></th>\n",
       "      <th></th>\n",
       "      <th></th>\n",
       "      <th></th>\n",
       "      <th></th>\n",
       "      <th></th>\n",
       "      <th></th>\n",
       "      <th></th>\n",
       "      <th></th>\n",
       "      <th></th>\n",
       "      <th></th>\n",
       "      <th></th>\n",
       "      <th></th>\n",
       "      <th></th>\n",
       "    </tr>\n",
       "  </thead>\n",
       "  <tbody>\n",
       "    <tr>\n",
       "      <th>310221</th>\n",
       "      <td>292.1255</td>\n",
       "      <td>2.0</td>\n",
       "      <td>6.0</td>\n",
       "      <td>1.0</td>\n",
       "      <td>1.0</td>\n",
       "      <td>4</td>\n",
       "      <td>198412.0</td>\n",
       "      <td>2.0</td>\n",
       "      <td>4.0</td>\n",
       "      <td>4.0</td>\n",
       "      <td>...</td>\n",
       "      <td>4.0</td>\n",
       "      <td>1.0</td>\n",
       "      <td>1.0</td>\n",
       "      <td>2.0</td>\n",
       "      <td>0.0</td>\n",
       "      <td>1.0</td>\n",
       "      <td>0.0</td>\n",
       "      <td>0.0</td>\n",
       "      <td>1.0</td>\n",
       "      <td>0.0</td>\n",
       "    </tr>\n",
       "    <tr>\n",
       "      <th>228218</th>\n",
       "      <td>281.6741</td>\n",
       "      <td>1.0</td>\n",
       "      <td>7.0</td>\n",
       "      <td>1.0</td>\n",
       "      <td>1.0</td>\n",
       "      <td>4</td>\n",
       "      <td>198507.0</td>\n",
       "      <td>6.0</td>\n",
       "      <td>1.0</td>\n",
       "      <td>1.0</td>\n",
       "      <td>...</td>\n",
       "      <td>3.0</td>\n",
       "      <td>1.0</td>\n",
       "      <td>1.0</td>\n",
       "      <td>2.0</td>\n",
       "      <td>0.0</td>\n",
       "      <td>0.0</td>\n",
       "      <td>0.0</td>\n",
       "      <td>0.0</td>\n",
       "      <td>0.0</td>\n",
       "      <td>0.0</td>\n",
       "    </tr>\n",
       "    <tr>\n",
       "      <th>179231</th>\n",
       "      <td>275.0641</td>\n",
       "      <td>1.0</td>\n",
       "      <td>7.0</td>\n",
       "      <td>1.0</td>\n",
       "      <td>1.0</td>\n",
       "      <td>4</td>\n",
       "      <td>198607.0</td>\n",
       "      <td>1.0</td>\n",
       "      <td>4.0</td>\n",
       "      <td>4.0</td>\n",
       "      <td>...</td>\n",
       "      <td>3.0</td>\n",
       "      <td>1.0</td>\n",
       "      <td>1.0</td>\n",
       "      <td>3.0</td>\n",
       "      <td>0.0</td>\n",
       "      <td>0.0</td>\n",
       "      <td>0.0</td>\n",
       "      <td>0.0</td>\n",
       "      <td>0.0</td>\n",
       "      <td>0.0</td>\n",
       "    </tr>\n",
       "    <tr>\n",
       "      <th>215101</th>\n",
       "      <td>149.2901</td>\n",
       "      <td>2.0</td>\n",
       "      <td>3.0</td>\n",
       "      <td>1.0</td>\n",
       "      <td>1.0</td>\n",
       "      <td>4</td>\n",
       "      <td>198507.0</td>\n",
       "      <td>2.0</td>\n",
       "      <td>3.0</td>\n",
       "      <td>1.0</td>\n",
       "      <td>...</td>\n",
       "      <td>4.0</td>\n",
       "      <td>1.0</td>\n",
       "      <td>3.0</td>\n",
       "      <td>3.0</td>\n",
       "      <td>0.0</td>\n",
       "      <td>0.0</td>\n",
       "      <td>0.0</td>\n",
       "      <td>0.0</td>\n",
       "      <td>0.0</td>\n",
       "      <td>0.0</td>\n",
       "    </tr>\n",
       "    <tr>\n",
       "      <th>245121</th>\n",
       "      <td>186.5067</td>\n",
       "      <td>1.0</td>\n",
       "      <td>7.0</td>\n",
       "      <td>1.0</td>\n",
       "      <td>1.0</td>\n",
       "      <td>4</td>\n",
       "      <td>198601.0</td>\n",
       "      <td>5.0</td>\n",
       "      <td>3.0</td>\n",
       "      <td>3.0</td>\n",
       "      <td>...</td>\n",
       "      <td>2.0</td>\n",
       "      <td>2.0</td>\n",
       "      <td>1.0</td>\n",
       "      <td>2.0</td>\n",
       "      <td>0.0</td>\n",
       "      <td>1.0</td>\n",
       "      <td>0.0</td>\n",
       "      <td>0.0</td>\n",
       "      <td>0.0</td>\n",
       "      <td>0.0</td>\n",
       "    </tr>\n",
       "  </tbody>\n",
       "</table>\n",
       "<p>5 rows × 151 columns</p>\n",
       "</div>"
      ],
      "text/plain": [
       "         BYSTUWT  BYSEX  BYRACE  BYSTLANG  BYHOMLNG  BYSTLNG2   BYDOB_P  \\\n",
       "STU_ID                                                                    \n",
       "310221  292.1255    2.0     6.0       1.0       1.0         4  198412.0   \n",
       "228218  281.6741    1.0     7.0       1.0       1.0         4  198507.0   \n",
       "179231  275.0641    1.0     7.0       1.0       1.0         4  198607.0   \n",
       "215101  149.2901    2.0     3.0       1.0       1.0         4  198507.0   \n",
       "245121  186.5067    1.0     7.0       1.0       1.0         4  198601.0   \n",
       "\n",
       "        BYFCOMP  BYPARED  BYMOTHED  ...  BYS24C  BYS24D  BYS24E  BYS28  \\\n",
       "STU_ID                              ...                                  \n",
       "310221      2.0      4.0       4.0  ...     4.0     1.0     1.0    2.0   \n",
       "228218      6.0      1.0       1.0  ...     3.0     1.0     1.0    2.0   \n",
       "179231      1.0      4.0       4.0  ...     3.0     1.0     1.0    3.0   \n",
       "215101      2.0      3.0       1.0  ...     4.0     1.0     3.0    3.0   \n",
       "245121      5.0      3.0       3.0  ...     2.0     2.0     1.0    2.0   \n",
       "\n",
       "        BYS71A  BYS71B  BYS71C  BYS71D  BYS71E  BYS71F  \n",
       "STU_ID                                                  \n",
       "310221     0.0     1.0     0.0     0.0     1.0     0.0  \n",
       "228218     0.0     0.0     0.0     0.0     0.0     0.0  \n",
       "179231     0.0     0.0     0.0     0.0     0.0     0.0  \n",
       "215101     0.0     0.0     0.0     0.0     0.0     0.0  \n",
       "245121     0.0     1.0     0.0     0.0     0.0     0.0  \n",
       "\n",
       "[5 rows x 151 columns]"
      ]
     },
     "execution_count": 49,
     "metadata": {},
     "output_type": "execute_result"
    }
   ],
   "source": [
    "test = pd.read_csv('../data/test_ver03.csv', index_col='STU_ID')\n",
    "test = test.drop(columns='F3ONET2CURR')\n",
    "test.head()"
   ]
  },
  {
   "cell_type": "code",
   "execution_count": 76,
   "metadata": {},
   "outputs": [],
   "source": [
    "# test_reduced= pca.fit_transform(test)\n",
    "test_reduced = rbf_pca.fit_transform(test)"
   ]
  },
  {
   "cell_type": "code",
   "execution_count": 77,
   "metadata": {},
   "outputs": [
    {
     "data": {
      "text/plain": [
       "array([43, 43, 43, ..., 35, 43, 43], dtype=int64)"
      ]
     },
     "execution_count": 77,
     "metadata": {},
     "output_type": "execute_result"
    }
   ],
   "source": [
    "pred = pipe.predict(test_reduced)\n",
    "pred"
   ]
  },
  {
   "cell_type": "code",
   "execution_count": 78,
   "metadata": {},
   "outputs": [
    {
     "data": {
      "text/html": [
       "<div>\n",
       "<style scoped>\n",
       "    .dataframe tbody tr th:only-of-type {\n",
       "        vertical-align: middle;\n",
       "    }\n",
       "\n",
       "    .dataframe tbody tr th {\n",
       "        vertical-align: top;\n",
       "    }\n",
       "\n",
       "    .dataframe thead th {\n",
       "        text-align: right;\n",
       "    }\n",
       "</style>\n",
       "<table border=\"1\" class=\"dataframe\">\n",
       "  <thead>\n",
       "    <tr style=\"text-align: right;\">\n",
       "      <th></th>\n",
       "      <th>STU_ID</th>\n",
       "      <th>PRED</th>\n",
       "    </tr>\n",
       "  </thead>\n",
       "  <tbody>\n",
       "    <tr>\n",
       "      <th>0</th>\n",
       "      <td>310221</td>\n",
       "      <td>43</td>\n",
       "    </tr>\n",
       "    <tr>\n",
       "      <th>1</th>\n",
       "      <td>228218</td>\n",
       "      <td>43</td>\n",
       "    </tr>\n",
       "    <tr>\n",
       "      <th>2</th>\n",
       "      <td>179231</td>\n",
       "      <td>43</td>\n",
       "    </tr>\n",
       "    <tr>\n",
       "      <th>3</th>\n",
       "      <td>215101</td>\n",
       "      <td>43</td>\n",
       "    </tr>\n",
       "    <tr>\n",
       "      <th>4</th>\n",
       "      <td>245121</td>\n",
       "      <td>43</td>\n",
       "    </tr>\n",
       "    <tr>\n",
       "      <th>...</th>\n",
       "      <td>...</td>\n",
       "      <td>...</td>\n",
       "    </tr>\n",
       "    <tr>\n",
       "      <th>2474</th>\n",
       "      <td>439214</td>\n",
       "      <td>43</td>\n",
       "    </tr>\n",
       "    <tr>\n",
       "      <th>2475</th>\n",
       "      <td>106206</td>\n",
       "      <td>43</td>\n",
       "    </tr>\n",
       "    <tr>\n",
       "      <th>2476</th>\n",
       "      <td>272131</td>\n",
       "      <td>35</td>\n",
       "    </tr>\n",
       "    <tr>\n",
       "      <th>2477</th>\n",
       "      <td>350228</td>\n",
       "      <td>43</td>\n",
       "    </tr>\n",
       "    <tr>\n",
       "      <th>2478</th>\n",
       "      <td>297108</td>\n",
       "      <td>43</td>\n",
       "    </tr>\n",
       "  </tbody>\n",
       "</table>\n",
       "<p>2479 rows × 2 columns</p>\n",
       "</div>"
      ],
      "text/plain": [
       "      STU_ID  PRED\n",
       "0     310221    43\n",
       "1     228218    43\n",
       "2     179231    43\n",
       "3     215101    43\n",
       "4     245121    43\n",
       "...      ...   ...\n",
       "2474  439214    43\n",
       "2475  106206    43\n",
       "2476  272131    35\n",
       "2477  350228    43\n",
       "2478  297108    43\n",
       "\n",
       "[2479 rows x 2 columns]"
      ]
     },
     "execution_count": 78,
     "metadata": {},
     "output_type": "execute_result"
    }
   ],
   "source": [
    "submission = pd.DataFrame(pred, index=test.index, columns=['PRED']).reset_index()\n",
    "submission"
   ]
  },
  {
   "cell_type": "code",
   "execution_count": 79,
   "metadata": {},
   "outputs": [],
   "source": [
    "submission.to_csv('my_pred08.csv', index=False)"
   ]
  },
  {
   "cell_type": "code",
   "execution_count": null,
   "metadata": {},
   "outputs": [],
   "source": []
  }
 ],
 "metadata": {
  "kernelspec": {
   "display_name": "Python 3",
   "language": "python",
   "name": "python3"
  },
  "language_info": {
   "codemirror_mode": {
    "name": "ipython",
    "version": 3
   },
   "file_extension": ".py",
   "mimetype": "text/x-python",
   "name": "python",
   "nbconvert_exporter": "python",
   "pygments_lexer": "ipython3",
   "version": "3.8.3"
  }
 },
 "nbformat": 4,
 "nbformat_minor": 4
}
