{
 "cells": [
  {
   "cell_type": "markdown",
   "id": "portuguese-trade",
   "metadata": {},
   "source": [
    "# 운송 비용확인"
   ]
  },
  {
   "cell_type": "markdown",
   "id": "fallen-portuguese",
   "metadata": {},
   "source": [
    "## 가설: 운송 비용을 낮출 효율적인 운송경로가 존재한다"
   ]
  },
  {
   "cell_type": "code",
   "execution_count": 54,
   "id": "baking-difference",
   "metadata": {
    "ExecuteTime": {
     "end_time": "2021-03-02T08:49:11.222163Z",
     "start_time": "2021-03-02T08:49:11.210171Z"
    }
   },
   "outputs": [],
   "source": [
    "import pandas as pd\n",
    "import numpy as np"
   ]
  },
  {
   "cell_type": "code",
   "execution_count": 2,
   "id": "diagnostic-prairie",
   "metadata": {
    "ExecuteTime": {
     "end_time": "2021-03-02T06:50:49.042743Z",
     "start_time": "2021-03-02T06:50:49.028760Z"
    }
   },
   "outputs": [],
   "source": [
    "# 운송 경로 및 운송 비용 데이터 파일 불러오기\n",
    "df_tr = pd.read_csv('trans_route.csv', index_col = '공장')\n",
    "df_tc = pd.read_csv('trans_cost.csv', index_col= '공장')"
   ]
  },
  {
   "cell_type": "code",
   "execution_count": 3,
   "id": "mature-favor",
   "metadata": {
    "ExecuteTime": {
     "end_time": "2021-03-02T06:50:51.422491Z",
     "start_time": "2021-03-02T06:50:51.403501Z"
    }
   },
   "outputs": [
    {
     "data": {
      "text/html": [
       "<div>\n",
       "<style scoped>\n",
       "    .dataframe tbody tr th:only-of-type {\n",
       "        vertical-align: middle;\n",
       "    }\n",
       "\n",
       "    .dataframe tbody tr th {\n",
       "        vertical-align: top;\n",
       "    }\n",
       "\n",
       "    .dataframe thead th {\n",
       "        text-align: right;\n",
       "    }\n",
       "</style>\n",
       "<table border=\"1\" class=\"dataframe\">\n",
       "  <thead>\n",
       "    <tr style=\"text-align: right;\">\n",
       "      <th></th>\n",
       "      <th>F1</th>\n",
       "      <th>F2</th>\n",
       "      <th>F3</th>\n",
       "      <th>F4</th>\n",
       "    </tr>\n",
       "    <tr>\n",
       "      <th>공장</th>\n",
       "      <th></th>\n",
       "      <th></th>\n",
       "      <th></th>\n",
       "      <th></th>\n",
       "    </tr>\n",
       "  </thead>\n",
       "  <tbody>\n",
       "    <tr>\n",
       "      <th>W1</th>\n",
       "      <td>15</td>\n",
       "      <td>15</td>\n",
       "      <td>0</td>\n",
       "      <td>5</td>\n",
       "    </tr>\n",
       "    <tr>\n",
       "      <th>W2</th>\n",
       "      <td>5</td>\n",
       "      <td>0</td>\n",
       "      <td>30</td>\n",
       "      <td>5</td>\n",
       "    </tr>\n",
       "    <tr>\n",
       "      <th>W3</th>\n",
       "      <td>10</td>\n",
       "      <td>15</td>\n",
       "      <td>2</td>\n",
       "      <td>15</td>\n",
       "    </tr>\n",
       "  </tbody>\n",
       "</table>\n",
       "</div>"
      ],
      "text/plain": [
       "    F1  F2  F3  F4\n",
       "공장                \n",
       "W1  15  15   0   5\n",
       "W2   5   0  30   5\n",
       "W3  10  15   2  15"
      ]
     },
     "execution_count": 3,
     "metadata": {},
     "output_type": "execute_result"
    }
   ],
   "source": [
    "df_tr"
   ]
  },
  {
   "cell_type": "code",
   "execution_count": 4,
   "id": "portable-hampton",
   "metadata": {
    "ExecuteTime": {
     "end_time": "2021-03-02T06:50:53.783984Z",
     "start_time": "2021-03-02T06:50:53.761986Z"
    }
   },
   "outputs": [
    {
     "data": {
      "text/html": [
       "<div>\n",
       "<style scoped>\n",
       "    .dataframe tbody tr th:only-of-type {\n",
       "        vertical-align: middle;\n",
       "    }\n",
       "\n",
       "    .dataframe tbody tr th {\n",
       "        vertical-align: top;\n",
       "    }\n",
       "\n",
       "    .dataframe thead th {\n",
       "        text-align: right;\n",
       "    }\n",
       "</style>\n",
       "<table border=\"1\" class=\"dataframe\">\n",
       "  <thead>\n",
       "    <tr style=\"text-align: right;\">\n",
       "      <th></th>\n",
       "      <th>F1</th>\n",
       "      <th>F2</th>\n",
       "      <th>F3</th>\n",
       "      <th>F4</th>\n",
       "    </tr>\n",
       "    <tr>\n",
       "      <th>공장</th>\n",
       "      <th></th>\n",
       "      <th></th>\n",
       "      <th></th>\n",
       "      <th></th>\n",
       "    </tr>\n",
       "  </thead>\n",
       "  <tbody>\n",
       "    <tr>\n",
       "      <th>W1</th>\n",
       "      <td>10</td>\n",
       "      <td>10</td>\n",
       "      <td>11</td>\n",
       "      <td>27</td>\n",
       "    </tr>\n",
       "    <tr>\n",
       "      <th>W2</th>\n",
       "      <td>18</td>\n",
       "      <td>21</td>\n",
       "      <td>12</td>\n",
       "      <td>14</td>\n",
       "    </tr>\n",
       "    <tr>\n",
       "      <th>W3</th>\n",
       "      <td>15</td>\n",
       "      <td>12</td>\n",
       "      <td>14</td>\n",
       "      <td>12</td>\n",
       "    </tr>\n",
       "  </tbody>\n",
       "</table>\n",
       "</div>"
      ],
      "text/plain": [
       "    F1  F2  F3  F4\n",
       "공장                \n",
       "W1  10  10  11  27\n",
       "W2  18  21  12  14\n",
       "W3  15  12  14  12"
      ]
     },
     "execution_count": 4,
     "metadata": {},
     "output_type": "execute_result"
    }
   ],
   "source": [
    "df_tc"
   ]
  },
  {
   "cell_type": "code",
   "execution_count": 13,
   "id": "incident-correspondence",
   "metadata": {
    "ExecuteTime": {
     "end_time": "2021-03-02T07:01:49.169948Z",
     "start_time": "2021-03-02T07:01:49.158965Z"
    }
   },
   "outputs": [],
   "source": [
    "# 총 비용 함수 만들기\n",
    "\n",
    "def trans_cost(df_tr, df_tc):\n",
    "\n",
    "    cost = 0\n",
    "\n",
    "    for i in range(len(df_tc.index)):\n",
    "        for j in range(len(df_tr.columns)):\n",
    "            cost += df_tr.iloc[i][j] * df_tc.iloc[i][j]\n",
    "\n",
    "    return cost"
   ]
  },
  {
   "cell_type": "code",
   "execution_count": 17,
   "id": "little-invention",
   "metadata": {
    "ExecuteTime": {
     "end_time": "2021-03-02T07:03:25.655022Z",
     "start_time": "2021-03-02T07:03:25.643030Z"
    }
   },
   "outputs": [
    {
     "name": "stdout",
     "output_type": "stream",
     "text": [
      "총 운송 비용: 1493만원\n"
     ]
    }
   ],
   "source": [
    "total_cost = trans_cost(df_tr, df_tc)\n",
    "print('총 운송 비용:' , str(total_cost) + '만원' )"
   ]
  },
  {
   "cell_type": "markdown",
   "id": "worse-canberra",
   "metadata": {},
   "source": [
    "## 제약 조건 설정"
   ]
  },
  {
   "cell_type": "code",
   "execution_count": 18,
   "id": "sacred-insertion",
   "metadata": {
    "ExecuteTime": {
     "end_time": "2021-03-02T08:18:02.917934Z",
     "start_time": "2021-03-02T08:18:02.902941Z"
    }
   },
   "outputs": [],
   "source": [
    "df_demand = pd.read_csv('demand.csv')\n",
    "df_supply = pd.read_csv('supply.csv')"
   ]
  },
  {
   "cell_type": "code",
   "execution_count": 19,
   "id": "remarkable-alberta",
   "metadata": {
    "ExecuteTime": {
     "end_time": "2021-03-02T08:18:06.311022Z",
     "start_time": "2021-03-02T08:18:06.294021Z"
    }
   },
   "outputs": [
    {
     "data": {
      "text/html": [
       "<div>\n",
       "<style scoped>\n",
       "    .dataframe tbody tr th:only-of-type {\n",
       "        vertical-align: middle;\n",
       "    }\n",
       "\n",
       "    .dataframe tbody tr th {\n",
       "        vertical-align: top;\n",
       "    }\n",
       "\n",
       "    .dataframe thead th {\n",
       "        text-align: right;\n",
       "    }\n",
       "</style>\n",
       "<table border=\"1\" class=\"dataframe\">\n",
       "  <thead>\n",
       "    <tr style=\"text-align: right;\">\n",
       "      <th></th>\n",
       "      <th>F1</th>\n",
       "      <th>F2</th>\n",
       "      <th>F3</th>\n",
       "      <th>F4</th>\n",
       "    </tr>\n",
       "  </thead>\n",
       "  <tbody>\n",
       "    <tr>\n",
       "      <th>0</th>\n",
       "      <td>28</td>\n",
       "      <td>29</td>\n",
       "      <td>31</td>\n",
       "      <td>25</td>\n",
       "    </tr>\n",
       "  </tbody>\n",
       "</table>\n",
       "</div>"
      ],
      "text/plain": [
       "   F1  F2  F3  F4\n",
       "0  28  29  31  25"
      ]
     },
     "execution_count": 19,
     "metadata": {},
     "output_type": "execute_result"
    }
   ],
   "source": [
    "df_demand"
   ]
  },
  {
   "cell_type": "code",
   "execution_count": 20,
   "id": "signal-upgrade",
   "metadata": {
    "ExecuteTime": {
     "end_time": "2021-03-02T08:18:10.561719Z",
     "start_time": "2021-03-02T08:18:10.553722Z"
    }
   },
   "outputs": [
    {
     "data": {
      "text/html": [
       "<div>\n",
       "<style scoped>\n",
       "    .dataframe tbody tr th:only-of-type {\n",
       "        vertical-align: middle;\n",
       "    }\n",
       "\n",
       "    .dataframe tbody tr th {\n",
       "        vertical-align: top;\n",
       "    }\n",
       "\n",
       "    .dataframe thead th {\n",
       "        text-align: right;\n",
       "    }\n",
       "</style>\n",
       "<table border=\"1\" class=\"dataframe\">\n",
       "  <thead>\n",
       "    <tr style=\"text-align: right;\">\n",
       "      <th></th>\n",
       "      <th>W1</th>\n",
       "      <th>W2</th>\n",
       "      <th>W3</th>\n",
       "    </tr>\n",
       "  </thead>\n",
       "  <tbody>\n",
       "    <tr>\n",
       "      <th>0</th>\n",
       "      <td>35</td>\n",
       "      <td>41</td>\n",
       "      <td>42</td>\n",
       "    </tr>\n",
       "  </tbody>\n",
       "</table>\n",
       "</div>"
      ],
      "text/plain": [
       "   W1  W2  W3\n",
       "0  35  41  42"
      ]
     },
     "execution_count": 20,
     "metadata": {},
     "output_type": "execute_result"
    }
   ],
   "source": [
    "df_supply"
   ]
  },
  {
   "cell_type": "code",
   "execution_count": 21,
   "id": "regulated-henry",
   "metadata": {
    "ExecuteTime": {
     "end_time": "2021-03-02T08:18:45.561491Z",
     "start_time": "2021-03-02T08:18:45.549497Z"
    }
   },
   "outputs": [
    {
     "data": {
      "text/html": [
       "<div>\n",
       "<style scoped>\n",
       "    .dataframe tbody tr th:only-of-type {\n",
       "        vertical-align: middle;\n",
       "    }\n",
       "\n",
       "    .dataframe tbody tr th {\n",
       "        vertical-align: top;\n",
       "    }\n",
       "\n",
       "    .dataframe thead th {\n",
       "        text-align: right;\n",
       "    }\n",
       "</style>\n",
       "<table border=\"1\" class=\"dataframe\">\n",
       "  <thead>\n",
       "    <tr style=\"text-align: right;\">\n",
       "      <th></th>\n",
       "      <th>F1</th>\n",
       "      <th>F2</th>\n",
       "      <th>F3</th>\n",
       "      <th>F4</th>\n",
       "    </tr>\n",
       "    <tr>\n",
       "      <th>공장</th>\n",
       "      <th></th>\n",
       "      <th></th>\n",
       "      <th></th>\n",
       "      <th></th>\n",
       "    </tr>\n",
       "  </thead>\n",
       "  <tbody>\n",
       "    <tr>\n",
       "      <th>W1</th>\n",
       "      <td>15</td>\n",
       "      <td>15</td>\n",
       "      <td>0</td>\n",
       "      <td>5</td>\n",
       "    </tr>\n",
       "    <tr>\n",
       "      <th>W2</th>\n",
       "      <td>5</td>\n",
       "      <td>0</td>\n",
       "      <td>30</td>\n",
       "      <td>5</td>\n",
       "    </tr>\n",
       "    <tr>\n",
       "      <th>W3</th>\n",
       "      <td>10</td>\n",
       "      <td>15</td>\n",
       "      <td>2</td>\n",
       "      <td>15</td>\n",
       "    </tr>\n",
       "  </tbody>\n",
       "</table>\n",
       "</div>"
      ],
      "text/plain": [
       "    F1  F2  F3  F4\n",
       "공장                \n",
       "W1  15  15   0   5\n",
       "W2   5   0  30   5\n",
       "W3  10  15   2  15"
      ]
     },
     "execution_count": 21,
     "metadata": {},
     "output_type": "execute_result"
    }
   ],
   "source": [
    "df_tr"
   ]
  },
  {
   "cell_type": "code",
   "execution_count": 46,
   "id": "vertical-motivation",
   "metadata": {
    "ExecuteTime": {
     "end_time": "2021-03-02T08:37:06.218588Z",
     "start_time": "2021-03-02T08:37:06.198600Z"
    }
   },
   "outputs": [
    {
     "name": "stdout",
     "output_type": "stream",
     "text": [
      "F1으로 운송량:30(수요량:28)\n",
      "수요량 만족\n",
      "F2으로 운송량:30(수요량:29)\n",
      "수요량 만족\n",
      "F3으로 운송량:32(수요량:31)\n",
      "수요량 만족\n",
      "F4으로 운송량:25(수요량:25)\n",
      "수요량 만족\n"
     ]
    }
   ],
   "source": [
    "#수요측 제약 조건\n",
    "for i in range(len(df_demand.columns)):\n",
    "\n",
    "    temp_sum = sum(df_tr[df_demand.columns[i]])\n",
    "    print(str(df_demand.columns[i]) + '으로 운송량:' + str(temp_sum) +  \"(수요량:\" + str(df_demand.iloc[0][i]) + \")\")\n",
    "    \n",
    "    if temp_sum >= df_demand.iloc[0][i]:\n",
    "        print('수요량 만족')\n",
    "    \n",
    "    else:\n",
    "        print('수요량 불충족, 운송경로 재계산 필요')"
   ]
  },
  {
   "cell_type": "code",
   "execution_count": 53,
   "id": "referenced-coach",
   "metadata": {
    "ExecuteTime": {
     "end_time": "2021-03-02T08:41:13.847271Z",
     "start_time": "2021-03-02T08:41:13.834289Z"
    }
   },
   "outputs": [
    {
     "name": "stdout",
     "output_type": "stream",
     "text": [
      "W1부터의 운송량:35(공급한계:35)\n",
      "공급한계 범위내\n",
      "W2부터의 운송량:40(공급한계:41)\n",
      "공급한계 범위내\n",
      "W3부터의 운송량:42(공급한계:42)\n",
      "공급한계 범위내\n"
     ]
    }
   ],
   "source": [
    "#공급측 제약 조건\n",
    "for i in range(len(df_supply.columns)):\n",
    "    temp_sum = sum(df_tr.loc[df_supply.columns[i]])\n",
    "    print(str(df_supply.columns[i]) + '부터의 운송량:' + str(temp_sum) +  \"(공급한계:\" + str(df_supply.iloc[0][i]) + \")\")\n",
    "    \n",
    "    if temp_sum <= df_supply.iloc[0][i]:\n",
    "        print('공급한계 범위내')\n",
    "    \n",
    "    else:\n",
    "        print('공급한계 초과, 운송경로 재계산 필요')"
   ]
  },
  {
   "cell_type": "markdown",
   "id": "musical-telescope",
   "metadata": {},
   "source": [
    "## 수정한 운송경로 제약 조건 확인"
   ]
  },
  {
   "cell_type": "code",
   "execution_count": 55,
   "id": "younger-bracket",
   "metadata": {
    "ExecuteTime": {
     "end_time": "2021-03-02T08:49:50.022844Z",
     "start_time": "2021-03-02T08:49:49.998858Z"
    }
   },
   "outputs": [
    {
     "data": {
      "text/html": [
       "<div>\n",
       "<style scoped>\n",
       "    .dataframe tbody tr th:only-of-type {\n",
       "        vertical-align: middle;\n",
       "    }\n",
       "\n",
       "    .dataframe tbody tr th {\n",
       "        vertical-align: top;\n",
       "    }\n",
       "\n",
       "    .dataframe thead th {\n",
       "        text-align: right;\n",
       "    }\n",
       "</style>\n",
       "<table border=\"1\" class=\"dataframe\">\n",
       "  <thead>\n",
       "    <tr style=\"text-align: right;\">\n",
       "      <th></th>\n",
       "      <th>F1</th>\n",
       "      <th>F2</th>\n",
       "      <th>F3</th>\n",
       "      <th>F4</th>\n",
       "    </tr>\n",
       "    <tr>\n",
       "      <th>공장</th>\n",
       "      <th></th>\n",
       "      <th></th>\n",
       "      <th></th>\n",
       "      <th></th>\n",
       "    </tr>\n",
       "  </thead>\n",
       "  <tbody>\n",
       "    <tr>\n",
       "      <th>W1</th>\n",
       "      <td>15</td>\n",
       "      <td>15</td>\n",
       "      <td>0</td>\n",
       "      <td>0</td>\n",
       "    </tr>\n",
       "    <tr>\n",
       "      <th>W2</th>\n",
       "      <td>5</td>\n",
       "      <td>0</td>\n",
       "      <td>30</td>\n",
       "      <td>10</td>\n",
       "    </tr>\n",
       "    <tr>\n",
       "      <th>W3</th>\n",
       "      <td>10</td>\n",
       "      <td>15</td>\n",
       "      <td>2</td>\n",
       "      <td>15</td>\n",
       "    </tr>\n",
       "  </tbody>\n",
       "</table>\n",
       "</div>"
      ],
      "text/plain": [
       "    F1  F2  F3  F4\n",
       "공장                \n",
       "W1  15  15   0   0\n",
       "W2   5   0  30  10\n",
       "W3  10  15   2  15"
      ]
     },
     "execution_count": 55,
     "metadata": {},
     "output_type": "execute_result"
    }
   ],
   "source": [
    "#데이터 불러오기\n",
    "df_tr_new = pd.read_csv('trans_route_new.csv', index_col ='공장')\n",
    "df_tr_new"
   ]
  },
  {
   "cell_type": "code",
   "execution_count": 64,
   "id": "short-array",
   "metadata": {
    "ExecuteTime": {
     "end_time": "2021-03-02T08:59:21.773107Z",
     "start_time": "2021-03-02T08:59:21.758116Z"
    }
   },
   "outputs": [
    {
     "data": {
      "text/html": [
       "<div>\n",
       "<style scoped>\n",
       "    .dataframe tbody tr th:only-of-type {\n",
       "        vertical-align: middle;\n",
       "    }\n",
       "\n",
       "    .dataframe tbody tr th {\n",
       "        vertical-align: top;\n",
       "    }\n",
       "\n",
       "    .dataframe thead th {\n",
       "        text-align: right;\n",
       "    }\n",
       "</style>\n",
       "<table border=\"1\" class=\"dataframe\">\n",
       "  <thead>\n",
       "    <tr style=\"text-align: right;\">\n",
       "      <th></th>\n",
       "      <th>F1</th>\n",
       "      <th>F2</th>\n",
       "      <th>F3</th>\n",
       "      <th>F4</th>\n",
       "    </tr>\n",
       "    <tr>\n",
       "      <th>공장</th>\n",
       "      <th></th>\n",
       "      <th></th>\n",
       "      <th></th>\n",
       "      <th></th>\n",
       "    </tr>\n",
       "  </thead>\n",
       "  <tbody>\n",
       "    <tr>\n",
       "      <th>W1</th>\n",
       "      <td>15</td>\n",
       "      <td>15</td>\n",
       "      <td>0</td>\n",
       "      <td>5</td>\n",
       "    </tr>\n",
       "    <tr>\n",
       "      <th>W2</th>\n",
       "      <td>5</td>\n",
       "      <td>0</td>\n",
       "      <td>30</td>\n",
       "      <td>5</td>\n",
       "    </tr>\n",
       "    <tr>\n",
       "      <th>W3</th>\n",
       "      <td>10</td>\n",
       "      <td>15</td>\n",
       "      <td>2</td>\n",
       "      <td>15</td>\n",
       "    </tr>\n",
       "  </tbody>\n",
       "</table>\n",
       "</div>"
      ],
      "text/plain": [
       "    F1  F2  F3  F4\n",
       "공장                \n",
       "W1  15  15   0   5\n",
       "W2   5   0  30   5\n",
       "W3  10  15   2  15"
      ]
     },
     "execution_count": 64,
     "metadata": {},
     "output_type": "execute_result"
    }
   ],
   "source": [
    "df_tr"
   ]
  },
  {
   "cell_type": "code",
   "execution_count": 57,
   "id": "collectible-jaguar",
   "metadata": {
    "ExecuteTime": {
     "end_time": "2021-03-02T08:51:25.266768Z",
     "start_time": "2021-03-02T08:51:25.246780Z"
    }
   },
   "outputs": [
    {
     "name": "stdout",
     "output_type": "stream",
     "text": [
      "변경된 총 운송 비용: 1428만원\n"
     ]
    }
   ],
   "source": [
    "#총 운송 비용 재계산\n",
    "new_total_cost=trans_cost(df_tr_new, df_tc)\n",
    "print('변경된 총 운송 비용:' , str(new_total_cost) + '만원' )"
   ]
  },
  {
   "cell_type": "code",
   "execution_count": 62,
   "id": "double-giant",
   "metadata": {
    "ExecuteTime": {
     "end_time": "2021-03-02T08:57:57.080346Z",
     "start_time": "2021-03-02T08:57:57.064345Z"
    }
   },
   "outputs": [],
   "source": [
    "## 제약 조건 계산함수\n",
    "\n",
    "# 수요측 제약 조건\n",
    "def condition_demand(df_tr, df_demand):\n",
    "    \n",
    "    flag = np.zeros(len(df_demand.columns))\n",
    "    \n",
    "    for i in range(len(df_demand.columns)):\n",
    "        temp_sum = sum(df_tr[df_demand.columns[i]])\n",
    "        \n",
    "        if (temp_sum >= df_demand.iloc[0][i]):\n",
    "            flag[i] = 1\n",
    "    \n",
    "    return flag\n",
    "\n",
    "# 공급측 제약 조건\n",
    "\n",
    "def condition_supply(df_tr, df_supply):\n",
    "    \n",
    "    flag = np.zeros(len(df_supply.columns))\n",
    "    \n",
    "    for i in range(len(df_supply.columns)):\n",
    "        temp_sum = sum(df_tr.loc[df_supply.columns[i]])\n",
    "        \n",
    "        if (temp_sum <= df_supply.iloc[0][i]):\n",
    "            flag[i] = 1\n",
    "    \n",
    "    return flag   "
   ]
  },
  {
   "cell_type": "code",
   "execution_count": 63,
   "id": "christian-republican",
   "metadata": {
    "ExecuteTime": {
     "end_time": "2021-03-02T08:57:59.699702Z",
     "start_time": "2021-03-02T08:57:59.693705Z"
    }
   },
   "outputs": [
    {
     "name": "stdout",
     "output_type": "stream",
     "text": [
      "수요조건 계산결과:[1. 1. 1. 1.]\n",
      "공급조건 계산결과:[1. 0. 1.]\n"
     ]
    }
   ],
   "source": [
    "print('수요조건 계산결과:' + str(condition_demand(df_tr_new, df_demand)))\n",
    "print('공급조건 계산결과:' + str(condition_supply(df_tr_new, df_supply)))"
   ]
  },
  {
   "cell_type": "markdown",
   "id": "similar-wellington",
   "metadata": {},
   "source": [
    "- 새로운 운송경로를 통해 W1에서 F4로 가는 운송을 줄이고, 그만큼 W2에서 F4로위 운송을 늘리는 경로\n",
    "- 새로운 운송경로의 총 비요은 1428만원으로 원래 운송 비용(1493만원)보다 65만원 절감 되지만, W2의 공급한계를 넘어버림"
   ]
  }
 ],
 "metadata": {
  "hide_input": false,
  "kernelspec": {
   "display_name": "Python 3",
   "language": "python",
   "name": "python3"
  },
  "language_info": {
   "codemirror_mode": {
    "name": "ipython",
    "version": 3
   },
   "file_extension": ".py",
   "mimetype": "text/x-python",
   "name": "python",
   "nbconvert_exporter": "python",
   "pygments_lexer": "ipython3",
   "version": "3.8.3"
  },
  "toc": {
   "base_numbering": 1,
   "nav_menu": {},
   "number_sections": true,
   "sideBar": true,
   "skip_h1_title": false,
   "title_cell": "Table of Contents",
   "title_sidebar": "Contents",
   "toc_cell": false,
   "toc_position": {},
   "toc_section_display": true,
   "toc_window_display": false
  },
  "varInspector": {
   "cols": {
    "lenName": 16,
    "lenType": 16,
    "lenVar": 40
   },
   "kernels_config": {
    "python": {
     "delete_cmd_postfix": "",
     "delete_cmd_prefix": "del ",
     "library": "var_list.py",
     "varRefreshCmd": "print(var_dic_list())"
    },
    "r": {
     "delete_cmd_postfix": ") ",
     "delete_cmd_prefix": "rm(",
     "library": "var_list.r",
     "varRefreshCmd": "cat(var_dic_list()) "
    }
   },
   "types_to_exclude": [
    "module",
    "function",
    "builtin_function_or_method",
    "instance",
    "_Feature"
   ],
   "window_display": false
  }
 },
 "nbformat": 4,
 "nbformat_minor": 5
}
