{
 "cells": [
  {
   "cell_type": "markdown",
   "id": "practical-philip",
   "metadata": {},
   "source": [
    "# 물류 네트워크 생산 계획 최적화"
   ]
  },
  {
   "cell_type": "code",
   "execution_count": 3,
   "id": "fiscal-victoria",
   "metadata": {
    "ExecuteTime": {
     "end_time": "2021-03-03T14:40:30.544516Z",
     "start_time": "2021-03-03T14:40:29.837137Z"
    }
   },
   "outputs": [],
   "source": [
    "import pandas as pd\n",
    "import numpy as np"
   ]
  },
  {
   "cell_type": "code",
   "execution_count": 4,
   "id": "interracial-forwarding",
   "metadata": {
    "ExecuteTime": {
     "end_time": "2021-03-03T14:40:31.326351Z",
     "start_time": "2021-03-03T14:40:31.304279Z"
    }
   },
   "outputs": [],
   "source": [
    "#데이터 불러오기\n",
    "df_material = pd.read_csv('product_plan_material.csv', index_col='제품')\n",
    "df_profit = pd.read_csv('product_plan_profit.csv', index_col='제품')\n",
    "df_stock = pd.read_csv('product_plan_stock.csv', index_col='항목')\n",
    "df_plan = pd.read_csv('product_plan.csv', index_col='제품')"
   ]
  },
  {
   "cell_type": "code",
   "execution_count": 5,
   "id": "failing-stocks",
   "metadata": {
    "ExecuteTime": {
     "end_time": "2021-03-03T14:40:31.942921Z",
     "start_time": "2021-03-03T14:40:31.920906Z"
    }
   },
   "outputs": [
    {
     "data": {
      "text/html": [
       "<div>\n",
       "<style scoped>\n",
       "    .dataframe tbody tr th:only-of-type {\n",
       "        vertical-align: middle;\n",
       "    }\n",
       "\n",
       "    .dataframe tbody tr th {\n",
       "        vertical-align: top;\n",
       "    }\n",
       "\n",
       "    .dataframe thead th {\n",
       "        text-align: right;\n",
       "    }\n",
       "</style>\n",
       "<table border=\"1\" class=\"dataframe\">\n",
       "  <thead>\n",
       "    <tr style=\"text-align: right;\">\n",
       "      <th></th>\n",
       "      <th>원료1</th>\n",
       "      <th>원료2</th>\n",
       "      <th>원료3</th>\n",
       "    </tr>\n",
       "    <tr>\n",
       "      <th>제품</th>\n",
       "      <th></th>\n",
       "      <th></th>\n",
       "      <th></th>\n",
       "    </tr>\n",
       "  </thead>\n",
       "  <tbody>\n",
       "    <tr>\n",
       "      <th>제품1</th>\n",
       "      <td>1</td>\n",
       "      <td>4</td>\n",
       "      <td>3</td>\n",
       "    </tr>\n",
       "    <tr>\n",
       "      <th>제품2</th>\n",
       "      <td>2</td>\n",
       "      <td>4</td>\n",
       "      <td>1</td>\n",
       "    </tr>\n",
       "  </tbody>\n",
       "</table>\n",
       "</div>"
      ],
      "text/plain": [
       "     원료1  원료2  원료3\n",
       "제품                \n",
       "제품1    1    4    3\n",
       "제품2    2    4    1"
      ]
     },
     "execution_count": 5,
     "metadata": {},
     "output_type": "execute_result"
    }
   ],
   "source": [
    "df_material"
   ]
  },
  {
   "cell_type": "code",
   "execution_count": 6,
   "id": "previous-suspect",
   "metadata": {
    "ExecuteTime": {
     "end_time": "2021-03-03T14:40:32.500446Z",
     "start_time": "2021-03-03T14:40:32.484444Z"
    }
   },
   "outputs": [
    {
     "data": {
      "text/html": [
       "<div>\n",
       "<style scoped>\n",
       "    .dataframe tbody tr th:only-of-type {\n",
       "        vertical-align: middle;\n",
       "    }\n",
       "\n",
       "    .dataframe tbody tr th {\n",
       "        vertical-align: top;\n",
       "    }\n",
       "\n",
       "    .dataframe thead th {\n",
       "        text-align: right;\n",
       "    }\n",
       "</style>\n",
       "<table border=\"1\" class=\"dataframe\">\n",
       "  <thead>\n",
       "    <tr style=\"text-align: right;\">\n",
       "      <th></th>\n",
       "      <th>이익</th>\n",
       "    </tr>\n",
       "    <tr>\n",
       "      <th>제품</th>\n",
       "      <th></th>\n",
       "    </tr>\n",
       "  </thead>\n",
       "  <tbody>\n",
       "    <tr>\n",
       "      <th>제품1</th>\n",
       "      <td>5.0</td>\n",
       "    </tr>\n",
       "    <tr>\n",
       "      <th>제품2</th>\n",
       "      <td>4.0</td>\n",
       "    </tr>\n",
       "  </tbody>\n",
       "</table>\n",
       "</div>"
      ],
      "text/plain": [
       "      이익\n",
       "제품      \n",
       "제품1  5.0\n",
       "제품2  4.0"
      ]
     },
     "execution_count": 6,
     "metadata": {},
     "output_type": "execute_result"
    }
   ],
   "source": [
    "df_profit"
   ]
  },
  {
   "cell_type": "code",
   "execution_count": 7,
   "id": "generous-candidate",
   "metadata": {
    "ExecuteTime": {
     "end_time": "2021-03-03T14:40:33.026261Z",
     "start_time": "2021-03-03T14:40:33.008263Z"
    }
   },
   "outputs": [
    {
     "data": {
      "text/html": [
       "<div>\n",
       "<style scoped>\n",
       "    .dataframe tbody tr th:only-of-type {\n",
       "        vertical-align: middle;\n",
       "    }\n",
       "\n",
       "    .dataframe tbody tr th {\n",
       "        vertical-align: top;\n",
       "    }\n",
       "\n",
       "    .dataframe thead th {\n",
       "        text-align: right;\n",
       "    }\n",
       "</style>\n",
       "<table border=\"1\" class=\"dataframe\">\n",
       "  <thead>\n",
       "    <tr style=\"text-align: right;\">\n",
       "      <th></th>\n",
       "      <th>원료1</th>\n",
       "      <th>원료2</th>\n",
       "      <th>원료3</th>\n",
       "    </tr>\n",
       "    <tr>\n",
       "      <th>항목</th>\n",
       "      <th></th>\n",
       "      <th></th>\n",
       "      <th></th>\n",
       "    </tr>\n",
       "  </thead>\n",
       "  <tbody>\n",
       "    <tr>\n",
       "      <th>재고</th>\n",
       "      <td>40</td>\n",
       "      <td>80</td>\n",
       "      <td>50</td>\n",
       "    </tr>\n",
       "  </tbody>\n",
       "</table>\n",
       "</div>"
      ],
      "text/plain": [
       "    원료1  원료2  원료3\n",
       "항목               \n",
       "재고   40   80   50"
      ]
     },
     "execution_count": 7,
     "metadata": {},
     "output_type": "execute_result"
    }
   ],
   "source": [
    "df_stock"
   ]
  },
  {
   "cell_type": "code",
   "execution_count": 8,
   "id": "thirty-crest",
   "metadata": {
    "ExecuteTime": {
     "end_time": "2021-03-03T14:40:33.734372Z",
     "start_time": "2021-03-03T14:40:33.728373Z"
    }
   },
   "outputs": [
    {
     "data": {
      "text/html": [
       "<div>\n",
       "<style scoped>\n",
       "    .dataframe tbody tr th:only-of-type {\n",
       "        vertical-align: middle;\n",
       "    }\n",
       "\n",
       "    .dataframe tbody tr th {\n",
       "        vertical-align: top;\n",
       "    }\n",
       "\n",
       "    .dataframe thead th {\n",
       "        text-align: right;\n",
       "    }\n",
       "</style>\n",
       "<table border=\"1\" class=\"dataframe\">\n",
       "  <thead>\n",
       "    <tr style=\"text-align: right;\">\n",
       "      <th></th>\n",
       "      <th>생산량</th>\n",
       "    </tr>\n",
       "    <tr>\n",
       "      <th>제품</th>\n",
       "      <th></th>\n",
       "    </tr>\n",
       "  </thead>\n",
       "  <tbody>\n",
       "    <tr>\n",
       "      <th>제품1</th>\n",
       "      <td>16</td>\n",
       "    </tr>\n",
       "    <tr>\n",
       "      <th>제품2</th>\n",
       "      <td>0</td>\n",
       "    </tr>\n",
       "  </tbody>\n",
       "</table>\n",
       "</div>"
      ],
      "text/plain": [
       "      생산량\n",
       "제품       \n",
       "제품1    16\n",
       "제품2     0"
      ]
     },
     "execution_count": 8,
     "metadata": {},
     "output_type": "execute_result"
    }
   ],
   "source": [
    "df_plan"
   ]
  },
  {
   "cell_type": "markdown",
   "id": "original-korea",
   "metadata": {},
   "source": [
    "## 현재 총 이익 계산"
   ]
  },
  {
   "cell_type": "code",
   "execution_count": 22,
   "id": "coordinated-seeking",
   "metadata": {
    "ExecuteTime": {
     "end_time": "2021-03-03T14:49:08.992908Z",
     "start_time": "2021-03-03T14:49:08.975917Z"
    }
   },
   "outputs": [],
   "source": [
    "#이익 계산 함수\n",
    "\n",
    "def product_plan(df_profit, df_plan):\n",
    "\n",
    "    profit = 0\n",
    "\n",
    "    for i in range(len(df_profit)):\n",
    "        for j in range(len(df_plan.columns)):\n",
    "            profit += df_profit.iloc[i][j] * df_plan.iloc[i][j]\n",
    "\n",
    "    return profit"
   ]
  },
  {
   "cell_type": "code",
   "execution_count": 24,
   "id": "hungry-nicholas",
   "metadata": {
    "ExecuteTime": {
     "end_time": "2021-03-03T14:50:05.882711Z",
     "start_time": "2021-03-03T14:50:05.869709Z"
    }
   },
   "outputs": [
    {
     "name": "stdout",
     "output_type": "stream",
     "text": [
      "총 이익: 80.0\n"
     ]
    }
   ],
   "source": [
    "print(\"총 이익:\", product_plan(df_profit, df_plan))"
   ]
  },
  {
   "cell_type": "markdown",
   "id": "complex-asset",
   "metadata": {},
   "source": [
    "## 생산 최적화 "
   ]
  },
  {
   "cell_type": "code",
   "execution_count": 25,
   "id": "connected-holly",
   "metadata": {
    "ExecuteTime": {
     "end_time": "2021-03-03T14:58:57.931718Z",
     "start_time": "2021-03-03T14:58:57.754900Z"
    }
   },
   "outputs": [],
   "source": [
    "from pulp import LpVariable, lpSum, value\n",
    "from ortoolpy import model_max, addvars, addvals"
   ]
  },
  {
   "cell_type": "code",
   "execution_count": 26,
   "id": "gentle-massachusetts",
   "metadata": {
    "ExecuteTime": {
     "end_time": "2021-03-03T14:59:15.785931Z",
     "start_time": "2021-03-03T14:59:15.768950Z"
    }
   },
   "outputs": [
    {
     "data": {
      "text/html": [
       "<div>\n",
       "<style scoped>\n",
       "    .dataframe tbody tr th:only-of-type {\n",
       "        vertical-align: middle;\n",
       "    }\n",
       "\n",
       "    .dataframe tbody tr th {\n",
       "        vertical-align: top;\n",
       "    }\n",
       "\n",
       "    .dataframe thead th {\n",
       "        text-align: right;\n",
       "    }\n",
       "</style>\n",
       "<table border=\"1\" class=\"dataframe\">\n",
       "  <thead>\n",
       "    <tr style=\"text-align: right;\">\n",
       "      <th></th>\n",
       "      <th>원료1</th>\n",
       "      <th>원료2</th>\n",
       "      <th>원료3</th>\n",
       "    </tr>\n",
       "    <tr>\n",
       "      <th>제품</th>\n",
       "      <th></th>\n",
       "      <th></th>\n",
       "      <th></th>\n",
       "    </tr>\n",
       "  </thead>\n",
       "  <tbody>\n",
       "    <tr>\n",
       "      <th>제품1</th>\n",
       "      <td>1</td>\n",
       "      <td>4</td>\n",
       "      <td>3</td>\n",
       "    </tr>\n",
       "    <tr>\n",
       "      <th>제품2</th>\n",
       "      <td>2</td>\n",
       "      <td>4</td>\n",
       "      <td>1</td>\n",
       "    </tr>\n",
       "  </tbody>\n",
       "</table>\n",
       "</div>"
      ],
      "text/plain": [
       "     원료1  원료2  원료3\n",
       "제품                \n",
       "제품1    1    4    3\n",
       "제품2    2    4    1"
      ]
     },
     "execution_count": 26,
     "metadata": {},
     "output_type": "execute_result"
    }
   ],
   "source": [
    "df = df_material.copy()\n",
    "df"
   ]
  },
  {
   "cell_type": "code",
   "execution_count": 27,
   "id": "light-thread",
   "metadata": {
    "ExecuteTime": {
     "end_time": "2021-03-03T14:59:30.073761Z",
     "start_time": "2021-03-03T14:59:30.060779Z"
    }
   },
   "outputs": [
    {
     "data": {
      "text/html": [
       "<div>\n",
       "<style scoped>\n",
       "    .dataframe tbody tr th:only-of-type {\n",
       "        vertical-align: middle;\n",
       "    }\n",
       "\n",
       "    .dataframe tbody tr th {\n",
       "        vertical-align: top;\n",
       "    }\n",
       "\n",
       "    .dataframe thead th {\n",
       "        text-align: right;\n",
       "    }\n",
       "</style>\n",
       "<table border=\"1\" class=\"dataframe\">\n",
       "  <thead>\n",
       "    <tr style=\"text-align: right;\">\n",
       "      <th></th>\n",
       "      <th>원료1</th>\n",
       "      <th>원료2</th>\n",
       "      <th>원료3</th>\n",
       "    </tr>\n",
       "    <tr>\n",
       "      <th>항목</th>\n",
       "      <th></th>\n",
       "      <th></th>\n",
       "      <th></th>\n",
       "    </tr>\n",
       "  </thead>\n",
       "  <tbody>\n",
       "    <tr>\n",
       "      <th>재고</th>\n",
       "      <td>40</td>\n",
       "      <td>80</td>\n",
       "      <td>50</td>\n",
       "    </tr>\n",
       "  </tbody>\n",
       "</table>\n",
       "</div>"
      ],
      "text/plain": [
       "    원료1  원료2  원료3\n",
       "항목               \n",
       "재고   40   80   50"
      ]
     },
     "execution_count": 27,
     "metadata": {},
     "output_type": "execute_result"
    }
   ],
   "source": [
    "inv = df_stock\n",
    "inv"
   ]
  },
  {
   "cell_type": "code",
   "execution_count": 35,
   "id": "elder-tactics",
   "metadata": {
    "ExecuteTime": {
     "end_time": "2021-03-03T15:07:43.437702Z",
     "start_time": "2021-03-03T15:07:43.424722Z"
    }
   },
   "outputs": [
    {
     "data": {
      "text/html": [
       "<div>\n",
       "<style scoped>\n",
       "    .dataframe tbody tr th:only-of-type {\n",
       "        vertical-align: middle;\n",
       "    }\n",
       "\n",
       "    .dataframe tbody tr th {\n",
       "        vertical-align: top;\n",
       "    }\n",
       "\n",
       "    .dataframe thead th {\n",
       "        text-align: right;\n",
       "    }\n",
       "</style>\n",
       "<table border=\"1\" class=\"dataframe\">\n",
       "  <thead>\n",
       "    <tr style=\"text-align: right;\">\n",
       "      <th></th>\n",
       "      <th>이익</th>\n",
       "    </tr>\n",
       "    <tr>\n",
       "      <th>제품</th>\n",
       "      <th></th>\n",
       "    </tr>\n",
       "  </thead>\n",
       "  <tbody>\n",
       "    <tr>\n",
       "      <th>제품1</th>\n",
       "      <td>5.0</td>\n",
       "    </tr>\n",
       "    <tr>\n",
       "      <th>제품2</th>\n",
       "      <td>4.0</td>\n",
       "    </tr>\n",
       "  </tbody>\n",
       "</table>\n",
       "</div>"
      ],
      "text/plain": [
       "      이익\n",
       "제품      \n",
       "제품1  5.0\n",
       "제품2  4.0"
      ]
     },
     "execution_count": 35,
     "metadata": {},
     "output_type": "execute_result"
    }
   ],
   "source": [
    "df_profit"
   ]
  },
  {
   "cell_type": "code",
   "execution_count": 61,
   "id": "owned-wagon",
   "metadata": {
    "ExecuteTime": {
     "end_time": "2021-03-03T15:26:21.494929Z",
     "start_time": "2021-03-03T15:26:21.455944Z"
    }
   },
   "outputs": [
    {
     "data": {
      "text/plain": [
       "1"
      ]
     },
     "execution_count": 61,
     "metadata": {},
     "output_type": "execute_result"
    }
   ],
   "source": [
    "m = model_max()  # 최대하 모델 선언\n",
    "\n",
    "#제품 변수 생산\n",
    "v1 = {(i): LpVariable('v%d'%(i), lowBound=0) for i in range(len(df_profit))}\n",
    "# 최대화 할 목적 함수 생산\n",
    "m += lpSum(df_profit.iloc[i]* v1[i] for i in range(len(df_profit)))\n",
    "#제약 조건 설정\n",
    "for i in range(len(df.columns)):\n",
    "    m += lpSum(df.iloc[j,i] * v1[j] for j in range(len(df_profit))) <= inv.iloc[:,i]\n",
    "\n",
    "m.solve()\n"
   ]
  },
  {
   "cell_type": "code",
   "execution_count": 62,
   "id": "civil-secondary",
   "metadata": {
    "ExecuteTime": {
     "end_time": "2021-03-03T15:27:26.492763Z",
     "start_time": "2021-03-03T15:27:26.484758Z"
    }
   },
   "outputs": [
    {
     "name": "stdout",
     "output_type": "stream",
     "text": [
      "      생산량\n",
      "제품       \n",
      "제품1    15\n",
      "제품2     5\n",
      "총 이익: 95.0\n"
     ]
    }
   ],
   "source": [
    "df_plan_sol = df_plan.copy()\n",
    "for k , x in v1.items():\n",
    "    df_plan_sol.iloc[k] = value(x)\n",
    "\n",
    "print(df_plan_sol)\n",
    "print('총 이익:' , value(m.objective))"
   ]
  },
  {
   "cell_type": "code",
   "execution_count": 64,
   "id": "coupled-preliminary",
   "metadata": {
    "ExecuteTime": {
     "end_time": "2021-03-03T15:44:29.343994Z",
     "start_time": "2021-03-03T15:44:29.333010Z"
    }
   },
   "outputs": [
    {
     "data": {
      "text/html": [
       "<div>\n",
       "<style scoped>\n",
       "    .dataframe tbody tr th:only-of-type {\n",
       "        vertical-align: middle;\n",
       "    }\n",
       "\n",
       "    .dataframe tbody tr th {\n",
       "        vertical-align: top;\n",
       "    }\n",
       "\n",
       "    .dataframe thead th {\n",
       "        text-align: right;\n",
       "    }\n",
       "</style>\n",
       "<table border=\"1\" class=\"dataframe\">\n",
       "  <thead>\n",
       "    <tr style=\"text-align: right;\">\n",
       "      <th></th>\n",
       "      <th>생산량</th>\n",
       "    </tr>\n",
       "    <tr>\n",
       "      <th>제품</th>\n",
       "      <th></th>\n",
       "    </tr>\n",
       "  </thead>\n",
       "  <tbody>\n",
       "    <tr>\n",
       "      <th>제품1</th>\n",
       "      <td>16</td>\n",
       "    </tr>\n",
       "    <tr>\n",
       "      <th>제품2</th>\n",
       "      <td>0</td>\n",
       "    </tr>\n",
       "  </tbody>\n",
       "</table>\n",
       "</div>"
      ],
      "text/plain": [
       "      생산량\n",
       "제품       \n",
       "제품1    16\n",
       "제품2     0"
      ]
     },
     "execution_count": 64,
     "metadata": {},
     "output_type": "execute_result"
    }
   ],
   "source": [
    "df_plan"
   ]
  },
  {
   "cell_type": "markdown",
   "id": "hawaiian-austria",
   "metadata": {},
   "source": [
    " - 제품1의  생산량을 1 줄이고 제품 2의 생산량을 5개 늘리면 이익을 95만원까지 기존 보다 15만원 향상할 수 있음"
   ]
  },
  {
   "cell_type": "markdown",
   "id": "african-fortune",
   "metadata": {},
   "source": [
    "## 제약 조건 확인"
   ]
  },
  {
   "cell_type": "code",
   "execution_count": 65,
   "id": "czech-front",
   "metadata": {
    "ExecuteTime": {
     "end_time": "2021-03-03T16:01:51.885957Z",
     "start_time": "2021-03-03T16:01:51.872965Z"
    }
   },
   "outputs": [
    {
     "data": {
      "text/html": [
       "<div>\n",
       "<style scoped>\n",
       "    .dataframe tbody tr th:only-of-type {\n",
       "        vertical-align: middle;\n",
       "    }\n",
       "\n",
       "    .dataframe tbody tr th {\n",
       "        vertical-align: top;\n",
       "    }\n",
       "\n",
       "    .dataframe thead th {\n",
       "        text-align: right;\n",
       "    }\n",
       "</style>\n",
       "<table border=\"1\" class=\"dataframe\">\n",
       "  <thead>\n",
       "    <tr style=\"text-align: right;\">\n",
       "      <th></th>\n",
       "      <th>원료1</th>\n",
       "      <th>원료2</th>\n",
       "      <th>원료3</th>\n",
       "    </tr>\n",
       "    <tr>\n",
       "      <th>제품</th>\n",
       "      <th></th>\n",
       "      <th></th>\n",
       "      <th></th>\n",
       "    </tr>\n",
       "  </thead>\n",
       "  <tbody>\n",
       "    <tr>\n",
       "      <th>제품1</th>\n",
       "      <td>1</td>\n",
       "      <td>4</td>\n",
       "      <td>3</td>\n",
       "    </tr>\n",
       "    <tr>\n",
       "      <th>제품2</th>\n",
       "      <td>2</td>\n",
       "      <td>4</td>\n",
       "      <td>1</td>\n",
       "    </tr>\n",
       "  </tbody>\n",
       "</table>\n",
       "</div>"
      ],
      "text/plain": [
       "     원료1  원료2  원료3\n",
       "제품                \n",
       "제품1    1    4    3\n",
       "제품2    2    4    1"
      ]
     },
     "execution_count": 65,
     "metadata": {},
     "output_type": "execute_result"
    }
   ],
   "source": [
    "df_material"
   ]
  },
  {
   "cell_type": "code",
   "execution_count": 67,
   "id": "expected-biodiversity",
   "metadata": {
    "ExecuteTime": {
     "end_time": "2021-03-03T16:03:30.454487Z",
     "start_time": "2021-03-03T16:03:30.443493Z"
    }
   },
   "outputs": [
    {
     "data": {
      "text/html": [
       "<div>\n",
       "<style scoped>\n",
       "    .dataframe tbody tr th:only-of-type {\n",
       "        vertical-align: middle;\n",
       "    }\n",
       "\n",
       "    .dataframe tbody tr th {\n",
       "        vertical-align: top;\n",
       "    }\n",
       "\n",
       "    .dataframe thead th {\n",
       "        text-align: right;\n",
       "    }\n",
       "</style>\n",
       "<table border=\"1\" class=\"dataframe\">\n",
       "  <thead>\n",
       "    <tr style=\"text-align: right;\">\n",
       "      <th></th>\n",
       "      <th>생산량</th>\n",
       "    </tr>\n",
       "    <tr>\n",
       "      <th>제품</th>\n",
       "      <th></th>\n",
       "    </tr>\n",
       "  </thead>\n",
       "  <tbody>\n",
       "    <tr>\n",
       "      <th>제품1</th>\n",
       "      <td>16</td>\n",
       "    </tr>\n",
       "    <tr>\n",
       "      <th>제품2</th>\n",
       "      <td>0</td>\n",
       "    </tr>\n",
       "  </tbody>\n",
       "</table>\n",
       "</div>"
      ],
      "text/plain": [
       "      생산량\n",
       "제품       \n",
       "제품1    16\n",
       "제품2     0"
      ]
     },
     "execution_count": 67,
     "metadata": {},
     "output_type": "execute_result"
    }
   ],
   "source": [
    "df_plan"
   ]
  },
  {
   "cell_type": "code",
   "execution_count": 68,
   "id": "continental-bridges",
   "metadata": {
    "ExecuteTime": {
     "end_time": "2021-03-03T16:05:04.164836Z",
     "start_time": "2021-03-03T16:05:04.154832Z"
    }
   },
   "outputs": [
    {
     "data": {
      "text/html": [
       "<div>\n",
       "<style scoped>\n",
       "    .dataframe tbody tr th:only-of-type {\n",
       "        vertical-align: middle;\n",
       "    }\n",
       "\n",
       "    .dataframe tbody tr th {\n",
       "        vertical-align: top;\n",
       "    }\n",
       "\n",
       "    .dataframe thead th {\n",
       "        text-align: right;\n",
       "    }\n",
       "</style>\n",
       "<table border=\"1\" class=\"dataframe\">\n",
       "  <thead>\n",
       "    <tr style=\"text-align: right;\">\n",
       "      <th></th>\n",
       "      <th>원료1</th>\n",
       "      <th>원료2</th>\n",
       "      <th>원료3</th>\n",
       "    </tr>\n",
       "    <tr>\n",
       "      <th>항목</th>\n",
       "      <th></th>\n",
       "      <th></th>\n",
       "      <th></th>\n",
       "    </tr>\n",
       "  </thead>\n",
       "  <tbody>\n",
       "    <tr>\n",
       "      <th>재고</th>\n",
       "      <td>40</td>\n",
       "      <td>80</td>\n",
       "      <td>50</td>\n",
       "    </tr>\n",
       "  </tbody>\n",
       "</table>\n",
       "</div>"
      ],
      "text/plain": [
       "    원료1  원료2  원료3\n",
       "항목               \n",
       "재고   40   80   50"
      ]
     },
     "execution_count": 68,
     "metadata": {},
     "output_type": "execute_result"
    }
   ],
   "source": [
    "df_stock"
   ]
  },
  {
   "cell_type": "code",
   "execution_count": 77,
   "id": "capital-eating",
   "metadata": {
    "ExecuteTime": {
     "end_time": "2021-03-03T16:13:17.869555Z",
     "start_time": "2021-03-03T16:13:17.853575Z"
    }
   },
   "outputs": [
    {
     "name": "stdout",
     "output_type": "stream",
     "text": [
      "원료1 사용량:16.0 , 재고:40.0\n",
      "원료2 사용량:64.0 , 재고:80.0\n",
      "원료3 사용량:48.0 , 재고:50.0\n",
      "최적화 전 계산 결과:[1. 1. 1.]\n",
      "----------최적화 후-------------------\n",
      "원료1 사용량:25.0 , 재고:40.0\n",
      "원료2 사용량:80.0 , 재고:80.0\n",
      "원료3 사용량:50.0 , 재고:50.0\n",
      "제약 조건 계산 결과:[1. 1. 1.]\n"
     ]
    }
   ],
   "source": [
    "def condition_stock(df_plan, df_material, df_stock):\n",
    "    flag = np.zeros(len(df_material.columns))\n",
    "    for i in range(len(df_material.columns)):\n",
    "        temp_sum = 0\n",
    "        for j in range(len(df_material)):\n",
    "            temp_sum += (df_material.iloc[j][i] * float(df_plan.iloc[j]))\n",
    "        \n",
    "        if (temp_sum <=float(df_stock.iloc[0][i])):\n",
    "            flag[i]=1\n",
    "        print(df_material.columns[i]+ \" 사용량:\" + str(temp_sum) + \" , 재고:\" + str(float(df_stock.iloc[0][i])))\n",
    "        \n",
    "    return flag\n",
    "\n",
    "\n",
    "print('최적화 전 계산 결과:' + str(condition_stock(df_plan, df_material, df_stock)))\n",
    "print('----------최적화 후-------------------')\n",
    "print('제약 조건 계산 결과:' + str(condition_stock(df_plan_sol, df_material, df_stock)))\n",
    "\n"
   ]
  },
  {
   "cell_type": "markdown",
   "id": "official-expense",
   "metadata": {},
   "source": [
    "- 최적화 이후 원료 2와 원료 3은 모두 사용 했으며, 원료 1이 조금 남아 있지만 최적화 계산 전과 비교하면 원료 사용 효율이 크게 개선 된 것을 알 수 있음"
   ]
  }
 ],
 "metadata": {
  "hide_input": false,
  "kernelspec": {
   "display_name": "Python 3",
   "language": "python",
   "name": "python3"
  },
  "language_info": {
   "codemirror_mode": {
    "name": "ipython",
    "version": 3
   },
   "file_extension": ".py",
   "mimetype": "text/x-python",
   "name": "python",
   "nbconvert_exporter": "python",
   "pygments_lexer": "ipython3",
   "version": "3.8.3"
  },
  "toc": {
   "base_numbering": 1,
   "nav_menu": {},
   "number_sections": true,
   "sideBar": true,
   "skip_h1_title": false,
   "title_cell": "Table of Contents",
   "title_sidebar": "Contents",
   "toc_cell": false,
   "toc_position": {},
   "toc_section_display": true,
   "toc_window_display": false
  },
  "varInspector": {
   "cols": {
    "lenName": 16,
    "lenType": 16,
    "lenVar": 40
   },
   "kernels_config": {
    "python": {
     "delete_cmd_postfix": "",
     "delete_cmd_prefix": "del ",
     "library": "var_list.py",
     "varRefreshCmd": "print(var_dic_list())"
    },
    "r": {
     "delete_cmd_postfix": ") ",
     "delete_cmd_prefix": "rm(",
     "library": "var_list.r",
     "varRefreshCmd": "cat(var_dic_list()) "
    }
   },
   "types_to_exclude": [
    "module",
    "function",
    "builtin_function_or_method",
    "instance",
    "_Feature"
   ],
   "window_display": false
  }
 },
 "nbformat": 4,
 "nbformat_minor": 5
}
