{
 "cells": [
  {
   "cell_type": "code",
   "execution_count": null,
   "id": "awful-storm",
   "metadata": {
    "ExecuteTime": {
     "end_time": "2021-02-23T05:15:11.427268Z",
     "start_time": "2021-02-23T05:15:09.186552Z"
    }
   },
   "outputs": [],
   "source": [
    "import pandas as pd\n",
    "import openpyxl"
   ]
  },
  {
   "cell_type": "code",
   "execution_count": null,
   "id": "thrown-carol",
   "metadata": {
    "ExecuteTime": {
     "end_time": "2021-02-22T15:15:32.189293Z",
     "start_time": "2021-02-22T15:15:21.527874Z"
    }
   },
   "outputs": [],
   "source": [
    "# !pip install openpyxl"
   ]
  },
  {
   "cell_type": "code",
   "execution_count": null,
   "id": "judicial-innocent",
   "metadata": {
    "ExecuteTime": {
     "end_time": "2021-02-23T05:15:12.986069Z",
     "start_time": "2021-02-23T05:15:12.899120Z"
    }
   },
   "outputs": [],
   "source": [
    "uriage_data = pd.read_csv('uriage.csv')\n",
    "uriage_data.head()"
   ]
  },
  {
   "cell_type": "code",
   "execution_count": null,
   "id": "surgical-switch",
   "metadata": {
    "ExecuteTime": {
     "end_time": "2021-02-23T05:15:14.831331Z",
     "start_time": "2021-02-23T05:15:14.756372Z"
    }
   },
   "outputs": [],
   "source": [
    "koyaku_data=pd.read_excel('kokyaku_daicho.xlsx')\n",
    "koyaku_data.head()"
   ]
  },
  {
   "cell_type": "code",
   "execution_count": null,
   "id": "fleet-stewart",
   "metadata": {
    "ExecuteTime": {
     "end_time": "2021-02-23T05:15:17.394996Z",
     "start_time": "2021-02-23T05:15:17.385010Z"
    }
   },
   "outputs": [],
   "source": [
    "uriage_data['item_name'].head()"
   ]
  },
  {
   "cell_type": "code",
   "execution_count": null,
   "id": "answering-introduction",
   "metadata": {
    "ExecuteTime": {
     "end_time": "2021-02-23T05:15:18.641025Z",
     "start_time": "2021-02-23T05:15:18.625034Z"
    }
   },
   "outputs": [],
   "source": [
    "uriage_data['item_price']"
   ]
  },
  {
   "cell_type": "code",
   "execution_count": null,
   "id": "illegal-garage",
   "metadata": {
    "ExecuteTime": {
     "end_time": "2021-02-23T05:15:46.770247Z",
     "start_time": "2021-02-23T05:15:46.664308Z"
    }
   },
   "outputs": [],
   "source": [
    "uriage_data['purchase_date'] = pd.to_datetime(uriage_data['purchase_date'])\n",
    "uriage_data['purchase_month'] = uriage_data['purchase_date'].dt.strftime('%Y%m')\n",
    "res = uriage_data.pivot_table(index = 'purchase_month', columns='item_name', aggfunc='size', fill_value=0)\n",
    "res"
   ]
  },
  {
   "cell_type": "code",
   "execution_count": null,
   "id": "talented-manitoba",
   "metadata": {
    "ExecuteTime": {
     "end_time": "2021-02-23T05:16:06.864536Z",
     "start_time": "2021-02-23T05:16:06.817548Z"
    }
   },
   "outputs": [],
   "source": [
    "res = uriage_data.pivot_table(index='purchase_month', columns='item_name', values='item_price',aggfunc='sum', fill_value=0)\n",
    "res"
   ]
  },
  {
   "cell_type": "code",
   "execution_count": null,
   "id": "absent-parcel",
   "metadata": {
    "ExecuteTime": {
     "end_time": "2021-02-23T05:16:09.188765Z",
     "start_time": "2021-02-23T05:16:09.184761Z"
    }
   },
   "outputs": [],
   "source": [
    "print(len(pd.unique(uriage_data.item_name)))"
   ]
  },
  {
   "cell_type": "code",
   "execution_count": null,
   "id": "express-environment",
   "metadata": {
    "ExecuteTime": {
     "end_time": "2021-02-23T05:16:09.818763Z",
     "start_time": "2021-02-23T05:16:09.796767Z"
    }
   },
   "outputs": [],
   "source": [
    "uriage_data.info()"
   ]
  },
  {
   "cell_type": "code",
   "execution_count": null,
   "id": "sustained-macro",
   "metadata": {
    "ExecuteTime": {
     "end_time": "2021-02-23T05:16:11.183835Z",
     "start_time": "2021-02-23T05:16:11.176821Z"
    }
   },
   "outputs": [],
   "source": [
    "uriage_data['item_name'].nunique()"
   ]
  },
  {
   "cell_type": "code",
   "execution_count": null,
   "id": "parliamentary-headquarters",
   "metadata": {
    "ExecuteTime": {
     "end_time": "2021-02-23T05:16:22.655907Z",
     "start_time": "2021-02-23T05:16:22.630920Z"
    }
   },
   "outputs": [],
   "source": [
    "uriage_data['item_name']= uriage_data['item_name'].str.upper()\n",
    "uriage_data['item_name']= uriage_data['item_name'].str.replace(' ','')\n",
    "uriage_data.head()"
   ]
  },
  {
   "cell_type": "code",
   "execution_count": null,
   "id": "varying-uncle",
   "metadata": {
    "ExecuteTime": {
     "end_time": "2021-02-23T05:16:23.871157Z",
     "start_time": "2021-02-23T05:16:23.852168Z"
    }
   },
   "outputs": [],
   "source": [
    "uriage_data['item_name'].nunique()"
   ]
  },
  {
   "cell_type": "code",
   "execution_count": null,
   "id": "colonial-focus",
   "metadata": {
    "ExecuteTime": {
     "end_time": "2021-02-23T05:16:24.950797Z",
     "start_time": "2021-02-23T05:16:24.918815Z"
    }
   },
   "outputs": [],
   "source": [
    "uriage_data.sort_values(by=['item_name'], ascending=True)"
   ]
  },
  {
   "cell_type": "code",
   "execution_count": null,
   "id": "subject-caribbean",
   "metadata": {
    "ExecuteTime": {
     "end_time": "2021-02-23T05:16:27.635802Z",
     "start_time": "2021-02-23T05:16:27.616805Z"
    }
   },
   "outputs": [],
   "source": [
    "uriage_data['item_name'].unique()"
   ]
  },
  {
   "cell_type": "code",
   "execution_count": null,
   "id": "clear-cyprus",
   "metadata": {
    "ExecuteTime": {
     "end_time": "2021-02-23T05:16:29.256392Z",
     "start_time": "2021-02-23T05:16:29.244399Z"
    }
   },
   "outputs": [],
   "source": [
    "uriage_data.isnull().any(axis=0)"
   ]
  },
  {
   "cell_type": "code",
   "execution_count": null,
   "id": "transparent-business",
   "metadata": {
    "ExecuteTime": {
     "end_time": "2021-02-23T05:16:30.171546Z",
     "start_time": "2021-02-23T05:16:30.164550Z"
    }
   },
   "outputs": [],
   "source": [
    "uriage_data['item_price'].isnull().sum()"
   ]
  },
  {
   "cell_type": "code",
   "execution_count": null,
   "id": "collaborative-supervision",
   "metadata": {
    "ExecuteTime": {
     "end_time": "2021-02-23T05:18:22.933012Z",
     "start_time": "2021-02-23T05:18:22.926009Z"
    }
   },
   "outputs": [],
   "source": [
    "fig_is_null = uriage_data['item_price'].isnull()"
   ]
  },
  {
   "cell_type": "code",
   "execution_count": null,
   "id": "legal-ethnic",
   "metadata": {
    "ExecuteTime": {
     "end_time": "2021-02-23T05:18:39.959748Z",
     "start_time": "2021-02-23T05:18:39.943744Z"
    }
   },
   "outputs": [],
   "source": [
    "fig_is_null"
   ]
  },
  {
   "cell_type": "code",
   "execution_count": null,
   "id": "motivated-arrival",
   "metadata": {
    "ExecuteTime": {
     "end_time": "2021-02-23T05:18:51.554359Z",
     "start_time": "2021-02-23T05:18:51.536369Z"
    }
   },
   "outputs": [],
   "source": [
    "~fig_is_null"
   ]
  },
  {
   "cell_type": "code",
   "execution_count": null,
   "id": "suspended-praise",
   "metadata": {
    "ExecuteTime": {
     "end_time": "2021-02-23T05:42:12.526291Z",
     "start_time": "2021-02-23T05:42:12.505302Z"
    }
   },
   "outputs": [],
   "source": []
  },
  {
   "cell_type": "code",
   "execution_count": null,
   "id": "guilty-assault",
   "metadata": {
    "ExecuteTime": {
     "end_time": "2021-02-23T05:42:44.321133Z",
     "start_time": "2021-02-23T05:42:44.263177Z"
    }
   },
   "outputs": [],
   "source": [
    "for trg in list(uriage_data.loc[fig_is_null, 'item_name'].unique()):\n",
    "    price = uriage_data.loc[(~fig_is_null) & (uriage_data['item_name'] == trg), 'item_price'].max()\n",
    "    uriage_data['item_price'].loc[(fig_is_null) & (uriage_data['item_name'] == trg)] = price\n",
    "\n",
    "uriage_data.head()"
   ]
  },
  {
   "cell_type": "code",
   "execution_count": null,
   "id": "surrounded-prior",
   "metadata": {
    "ExecuteTime": {
     "end_time": "2021-02-23T05:45:41.391370Z",
     "start_time": "2021-02-23T05:45:41.384365Z"
    }
   },
   "outputs": [],
   "source": [
    "uriage_data.isnull().any(axis=0)"
   ]
  },
  {
   "cell_type": "code",
   "execution_count": null,
   "id": "champion-mason",
   "metadata": {
    "ExecuteTime": {
     "end_time": "2021-02-23T06:45:04.745155Z",
     "start_time": "2021-02-23T06:45:04.683190Z"
    }
   },
   "outputs": [],
   "source": [
    "for trg in list(uriage_data['item_name'].sort_values().unique()):\n",
    "    print(trg + '의 최고가:' +  str(uriage_data.loc[uriage_data['item_name'] ==trg]['item_price'].max()) \n",
    "          + '의 최저가:' + str(uriage_data.loc[uriage_data['item_name'] == trg]['item_price'].min(skipna=False)))"
   ]
  },
  {
   "cell_type": "code",
   "execution_count": null,
   "id": "damaged-sampling",
   "metadata": {
    "ExecuteTime": {
     "end_time": "2021-02-23T06:46:28.617409Z",
     "start_time": "2021-02-23T06:46:28.597420Z"
    }
   },
   "outputs": [],
   "source": [
    "koyaku_data['고객이름'].head()"
   ]
  },
  {
   "cell_type": "code",
   "execution_count": null,
   "id": "irish-floor",
   "metadata": {
    "ExecuteTime": {
     "end_time": "2021-02-23T06:46:44.275302Z",
     "start_time": "2021-02-23T06:46:44.264307Z"
    }
   },
   "outputs": [],
   "source": [
    "uriage_data['customer_name'].head()"
   ]
  },
  {
   "cell_type": "code",
   "execution_count": null,
   "id": "surrounded-batman",
   "metadata": {
    "ExecuteTime": {
     "end_time": "2021-02-23T06:59:30.443557Z",
     "start_time": "2021-02-23T06:59:30.434552Z"
    }
   },
   "outputs": [],
   "source": [
    "koyaku_data['고객이름'] = koyaku_data['고객이름'].str.replace(\" \",\"\")\n",
    "koyaku_data['고객이름'] = koyaku_data['고객이름'].str.replace(\"  \",\"\")\n",
    "koyaku_data['고객이름'].head()"
   ]
  },
  {
   "cell_type": "code",
   "execution_count": null,
   "id": "norman-greene",
   "metadata": {
    "ExecuteTime": {
     "end_time": "2021-02-23T07:03:20.633760Z",
     "start_time": "2021-02-23T07:03:20.614770Z"
    }
   },
   "outputs": [],
   "source": [
    "koyaku_data"
   ]
  },
  {
   "cell_type": "code",
   "execution_count": null,
   "id": "falling-number",
   "metadata": {
    "ExecuteTime": {
     "end_time": "2021-02-23T07:03:33.837380Z",
     "start_time": "2021-02-23T07:03:33.822391Z"
    }
   },
   "outputs": [],
   "source": [
    "uriage_data"
   ]
  },
  {
   "cell_type": "code",
   "execution_count": null,
   "id": "tutorial-remedy",
   "metadata": {
    "ExecuteTime": {
     "end_time": "2021-02-23T07:06:38.070260Z",
     "start_time": "2021-02-23T07:06:38.064263Z"
    }
   },
   "outputs": [],
   "source": [
    "flg_is_serial = koyaku_data['등록일'].astype('str').str.isdigit()"
   ]
  },
  {
   "cell_type": "code",
   "execution_count": null,
   "id": "recovered-coalition",
   "metadata": {
    "ExecuteTime": {
     "end_time": "2021-02-23T07:06:44.206254Z",
     "start_time": "2021-02-23T07:06:44.189265Z"
    }
   },
   "outputs": [],
   "source": [
    "flg_is_serial.sum()"
   ]
  },
  {
   "cell_type": "code",
   "execution_count": null,
   "id": "hollywood-trading",
   "metadata": {
    "ExecuteTime": {
     "end_time": "2021-02-23T07:11:19.540091Z",
     "start_time": "2021-02-23T07:11:19.527110Z"
    }
   },
   "outputs": [],
   "source": [
    "fromSerial = pd.to_timedelta(koyaku_data.loc[flg_is_serial]['등록일'].astype('float'),unit='D') + pd.to_datetime('1900/01/01')"
   ]
  },
  {
   "cell_type": "code",
   "execution_count": null,
   "id": "caroline-branch",
   "metadata": {
    "ExecuteTime": {
     "end_time": "2021-02-23T07:11:23.026259Z",
     "start_time": "2021-02-23T07:11:23.015265Z"
    }
   },
   "outputs": [],
   "source": [
    "fromSerial"
   ]
  },
  {
   "cell_type": "code",
   "execution_count": null,
   "id": "centered-baker",
   "metadata": {
    "ExecuteTime": {
     "end_time": "2021-02-23T07:12:39.821168Z",
     "start_time": "2021-02-23T07:12:39.804177Z"
    }
   },
   "outputs": [],
   "source": [
    "fromString  = pd.to_datetime(koyaku_data.loc[~flg_is_serial]['등록일'])\n",
    "fromString"
   ]
  },
  {
   "cell_type": "code",
   "execution_count": null,
   "id": "greek-converter",
   "metadata": {
    "ExecuteTime": {
     "end_time": "2021-02-23T07:14:34.715540Z",
     "start_time": "2021-02-23T07:14:34.695561Z"
    }
   },
   "outputs": [],
   "source": [
    "koyaku_data['등록일'] = pd.concat([fromSerial, fromString])\n",
    "koyaku_data"
   ]
  },
  {
   "cell_type": "code",
   "execution_count": null,
   "id": "promotional-peeing",
   "metadata": {
    "ExecuteTime": {
     "end_time": "2021-02-23T07:42:43.993277Z",
     "start_time": "2021-02-23T07:42:43.973291Z"
    }
   },
   "outputs": [],
   "source": [
    "koyaku_data['등록연월']=koyaku_data['등록일'].dt.strftime('%Y%m')\n",
    "koyaku_data"
   ]
  },
  {
   "cell_type": "code",
   "execution_count": null,
   "id": "iraqi-sandwich",
   "metadata": {
    "ExecuteTime": {
     "end_time": "2021-02-23T07:44:09.083179Z",
     "start_time": "2021-02-23T07:44:09.069187Z"
    }
   },
   "outputs": [],
   "source": [
    "rlst=koyaku_data.groupby('등록연월')['고객이름'].count()\n",
    "print(rlst)\n",
    "print(len(koyaku_data))"
   ]
  },
  {
   "cell_type": "code",
   "execution_count": null,
   "id": "dense-decline",
   "metadata": {
    "ExecuteTime": {
     "end_time": "2021-02-23T07:45:06.618738Z",
     "start_time": "2021-02-23T07:45:06.602745Z"
    }
   },
   "outputs": [],
   "source": [
    "koyaku_data['등록일'].astype('str').str.isdigit().sum()"
   ]
  },
  {
   "cell_type": "code",
   "execution_count": null,
   "id": "identical-richards",
   "metadata": {
    "ExecuteTime": {
     "end_time": "2021-02-23T07:46:20.779972Z",
     "start_time": "2021-02-23T07:46:20.754979Z"
    }
   },
   "outputs": [],
   "source": [
    "uriage_data"
   ]
  },
  {
   "cell_type": "code",
   "execution_count": null,
   "id": "dried-pregnancy",
   "metadata": {
    "ExecuteTime": {
     "end_time": "2021-02-23T07:46:27.009248Z",
     "start_time": "2021-02-23T07:46:26.997254Z"
    }
   },
   "outputs": [],
   "source": [
    "koyaku_data"
   ]
  },
  {
   "cell_type": "code",
   "execution_count": null,
   "id": "southeast-miller",
   "metadata": {
    "ExecuteTime": {
     "end_time": "2021-02-23T07:47:52.562713Z",
     "start_time": "2021-02-23T07:47:52.533740Z"
    }
   },
   "outputs": [],
   "source": [
    "join_data = pd.merge(uriage_data, koyaku_data, left_on='customer_name', right_on='고객이름', how='left')\n",
    "join_data"
   ]
  },
  {
   "cell_type": "code",
   "execution_count": null,
   "id": "medical-geology",
   "metadata": {
    "ExecuteTime": {
     "end_time": "2021-02-23T07:48:26.432429Z",
     "start_time": "2021-02-23T07:48:26.403446Z"
    }
   },
   "outputs": [],
   "source": [
    "join_data = join_data.drop('customer_name', axis=1)\n",
    "join_data"
   ]
  },
  {
   "cell_type": "code",
   "execution_count": null,
   "id": "natural-tooth",
   "metadata": {
    "ExecuteTime": {
     "end_time": "2021-02-23T07:51:00.104474Z",
     "start_time": "2021-02-23T07:51:00.079489Z"
    }
   },
   "outputs": [],
   "source": [
    "dump_data = join_data[['purchase_date','purchase_month', 'item_name','item_price','고객이름','지역','등록일']]\n",
    "dump_data"
   ]
  },
  {
   "cell_type": "code",
   "execution_count": null,
   "id": "modular-petersburg",
   "metadata": {
    "ExecuteTime": {
     "end_time": "2021-02-23T07:51:35.406043Z",
     "start_time": "2021-02-23T07:51:35.327096Z"
    }
   },
   "outputs": [],
   "source": [
    "dump_data.to_csv('dump_data.csv', index=False)"
   ]
  },
  {
   "cell_type": "code",
   "execution_count": null,
   "id": "laughing-disabled",
   "metadata": {
    "ExecuteTime": {
     "end_time": "2021-02-23T07:54:37.942151Z",
     "start_time": "2021-02-23T07:54:37.924163Z"
    }
   },
   "outputs": [],
   "source": [
    "import gc \n",
    "gc.get_count()"
   ]
  },
  {
   "cell_type": "code",
   "execution_count": 2,
   "id": "secondary-oklahoma",
   "metadata": {
    "ExecuteTime": {
     "end_time": "2021-02-23T07:57:01.413445Z",
     "start_time": "2021-02-23T07:57:01.368472Z"
    }
   },
   "outputs": [
    {
     "data": {
      "text/html": [
       "<div>\n",
       "<style scoped>\n",
       "    .dataframe tbody tr th:only-of-type {\n",
       "        vertical-align: middle;\n",
       "    }\n",
       "\n",
       "    .dataframe tbody tr th {\n",
       "        vertical-align: top;\n",
       "    }\n",
       "\n",
       "    .dataframe thead th {\n",
       "        text-align: right;\n",
       "    }\n",
       "</style>\n",
       "<table border=\"1\" class=\"dataframe\">\n",
       "  <thead>\n",
       "    <tr style=\"text-align: right;\">\n",
       "      <th></th>\n",
       "      <th>purchase_date</th>\n",
       "      <th>purchase_month</th>\n",
       "      <th>item_name</th>\n",
       "      <th>item_price</th>\n",
       "      <th>고객이름</th>\n",
       "      <th>지역</th>\n",
       "      <th>등록일</th>\n",
       "    </tr>\n",
       "  </thead>\n",
       "  <tbody>\n",
       "    <tr>\n",
       "      <th>0</th>\n",
       "      <td>2019-06-13 18:02:00</td>\n",
       "      <td>201906</td>\n",
       "      <td>상품A</td>\n",
       "      <td>100.0</td>\n",
       "      <td>김가온</td>\n",
       "      <td>C시</td>\n",
       "      <td>2017-01-26 00:00:00</td>\n",
       "    </tr>\n",
       "    <tr>\n",
       "      <th>1</th>\n",
       "      <td>2019-07-13 13:05:00</td>\n",
       "      <td>201907</td>\n",
       "      <td>상품S</td>\n",
       "      <td>1900.0</td>\n",
       "      <td>김우찬</td>\n",
       "      <td>C시</td>\n",
       "      <td>2018-04-07 00:00:00</td>\n",
       "    </tr>\n",
       "    <tr>\n",
       "      <th>2</th>\n",
       "      <td>2019-05-11 19:42:00</td>\n",
       "      <td>201905</td>\n",
       "      <td>상품A</td>\n",
       "      <td>100.0</td>\n",
       "      <td>김유찬</td>\n",
       "      <td>A시</td>\n",
       "      <td>2018-06-19 00:00:00</td>\n",
       "    </tr>\n",
       "    <tr>\n",
       "      <th>3</th>\n",
       "      <td>2019-02-12 23:40:00</td>\n",
       "      <td>201902</td>\n",
       "      <td>상품Z</td>\n",
       "      <td>2600.0</td>\n",
       "      <td>김재현</td>\n",
       "      <td>D시</td>\n",
       "      <td>2018-07-22 00:00:00</td>\n",
       "    </tr>\n",
       "    <tr>\n",
       "      <th>4</th>\n",
       "      <td>2019-04-22 03:09:00</td>\n",
       "      <td>201904</td>\n",
       "      <td>상품A</td>\n",
       "      <td>100.0</td>\n",
       "      <td>김강현</td>\n",
       "      <td>D시</td>\n",
       "      <td>2017-06-07 00:00:00</td>\n",
       "    </tr>\n",
       "    <tr>\n",
       "      <th>...</th>\n",
       "      <td>...</td>\n",
       "      <td>...</td>\n",
       "      <td>...</td>\n",
       "      <td>...</td>\n",
       "      <td>...</td>\n",
       "      <td>...</td>\n",
       "      <td>...</td>\n",
       "    </tr>\n",
       "    <tr>\n",
       "      <th>2994</th>\n",
       "      <td>2019-02-15 02:56:00</td>\n",
       "      <td>201902</td>\n",
       "      <td>상품Y</td>\n",
       "      <td>2500.0</td>\n",
       "      <td>김정민</td>\n",
       "      <td>B시</td>\n",
       "      <td>2017-07-01 00:00:00</td>\n",
       "    </tr>\n",
       "    <tr>\n",
       "      <th>2995</th>\n",
       "      <td>2019-06-22 04:03:00</td>\n",
       "      <td>201906</td>\n",
       "      <td>상품M</td>\n",
       "      <td>1300.0</td>\n",
       "      <td>김재원</td>\n",
       "      <td>E시</td>\n",
       "      <td>2018-03-31 00:00:00</td>\n",
       "    </tr>\n",
       "    <tr>\n",
       "      <th>2996</th>\n",
       "      <td>2019-03-29 11:14:00</td>\n",
       "      <td>201903</td>\n",
       "      <td>상품Q</td>\n",
       "      <td>1700.0</td>\n",
       "      <td>김지율</td>\n",
       "      <td>B시</td>\n",
       "      <td>2017-03-15 00:00:00</td>\n",
       "    </tr>\n",
       "    <tr>\n",
       "      <th>2997</th>\n",
       "      <td>2019-07-14 12:56:00</td>\n",
       "      <td>201907</td>\n",
       "      <td>상품H</td>\n",
       "      <td>800.0</td>\n",
       "      <td>김승주</td>\n",
       "      <td>E시</td>\n",
       "      <td>2018-07-15 00:00:00</td>\n",
       "    </tr>\n",
       "    <tr>\n",
       "      <th>2998</th>\n",
       "      <td>2019-07-21 00:31:00</td>\n",
       "      <td>201907</td>\n",
       "      <td>상품D</td>\n",
       "      <td>400.0</td>\n",
       "      <td>정준기</td>\n",
       "      <td>B시</td>\n",
       "      <td>2017-02-05 00:00:00</td>\n",
       "    </tr>\n",
       "  </tbody>\n",
       "</table>\n",
       "<p>2999 rows × 7 columns</p>\n",
       "</div>"
      ],
      "text/plain": [
       "            purchase_date  purchase_month item_name  item_price 고객이름  지역  \\\n",
       "0     2019-06-13 18:02:00          201906       상품A       100.0  김가온  C시   \n",
       "1     2019-07-13 13:05:00          201907       상품S      1900.0  김우찬  C시   \n",
       "2     2019-05-11 19:42:00          201905       상품A       100.0  김유찬  A시   \n",
       "3     2019-02-12 23:40:00          201902       상품Z      2600.0  김재현  D시   \n",
       "4     2019-04-22 03:09:00          201904       상품A       100.0  김강현  D시   \n",
       "...                   ...             ...       ...         ...  ...  ..   \n",
       "2994  2019-02-15 02:56:00          201902       상품Y      2500.0  김정민  B시   \n",
       "2995  2019-06-22 04:03:00          201906       상품M      1300.0  김재원  E시   \n",
       "2996  2019-03-29 11:14:00          201903       상품Q      1700.0  김지율  B시   \n",
       "2997  2019-07-14 12:56:00          201907       상품H       800.0  김승주  E시   \n",
       "2998  2019-07-21 00:31:00          201907       상품D       400.0  정준기  B시   \n",
       "\n",
       "                      등록일  \n",
       "0     2017-01-26 00:00:00  \n",
       "1     2018-04-07 00:00:00  \n",
       "2     2018-06-19 00:00:00  \n",
       "3     2018-07-22 00:00:00  \n",
       "4     2017-06-07 00:00:00  \n",
       "...                   ...  \n",
       "2994  2017-07-01 00:00:00  \n",
       "2995  2018-03-31 00:00:00  \n",
       "2996  2017-03-15 00:00:00  \n",
       "2997  2018-07-15 00:00:00  \n",
       "2998  2017-02-05 00:00:00  \n",
       "\n",
       "[2999 rows x 7 columns]"
      ]
     },
     "execution_count": 2,
     "metadata": {},
     "output_type": "execute_result"
    }
   ],
   "source": [
    "import pandas as pd\n",
    "import numpy as np\n",
    "\n",
    "data = pd.read_csv('dump_data.csv')\n",
    "data"
   ]
  },
  {
   "cell_type": "code",
   "execution_count": 5,
   "id": "modular-connectivity",
   "metadata": {
    "ExecuteTime": {
     "end_time": "2021-02-23T07:58:35.907877Z",
     "start_time": "2021-02-23T07:58:35.870889Z"
    }
   },
   "outputs": [
    {
     "data": {
      "text/html": [
       "<div>\n",
       "<style scoped>\n",
       "    .dataframe tbody tr th:only-of-type {\n",
       "        vertical-align: middle;\n",
       "    }\n",
       "\n",
       "    .dataframe tbody tr th {\n",
       "        vertical-align: top;\n",
       "    }\n",
       "\n",
       "    .dataframe thead th {\n",
       "        text-align: right;\n",
       "    }\n",
       "</style>\n",
       "<table border=\"1\" class=\"dataframe\">\n",
       "  <thead>\n",
       "    <tr style=\"text-align: right;\">\n",
       "      <th>item_name</th>\n",
       "      <th>상품A</th>\n",
       "      <th>상품B</th>\n",
       "      <th>상품C</th>\n",
       "      <th>상품D</th>\n",
       "      <th>상품E</th>\n",
       "      <th>상품F</th>\n",
       "      <th>상품G</th>\n",
       "      <th>상품H</th>\n",
       "      <th>상품I</th>\n",
       "      <th>상품J</th>\n",
       "      <th>...</th>\n",
       "      <th>상품Q</th>\n",
       "      <th>상품R</th>\n",
       "      <th>상품S</th>\n",
       "      <th>상품T</th>\n",
       "      <th>상품U</th>\n",
       "      <th>상품V</th>\n",
       "      <th>상품W</th>\n",
       "      <th>상품X</th>\n",
       "      <th>상품Y</th>\n",
       "      <th>상품Z</th>\n",
       "    </tr>\n",
       "    <tr>\n",
       "      <th>purchase_month</th>\n",
       "      <th></th>\n",
       "      <th></th>\n",
       "      <th></th>\n",
       "      <th></th>\n",
       "      <th></th>\n",
       "      <th></th>\n",
       "      <th></th>\n",
       "      <th></th>\n",
       "      <th></th>\n",
       "      <th></th>\n",
       "      <th></th>\n",
       "      <th></th>\n",
       "      <th></th>\n",
       "      <th></th>\n",
       "      <th></th>\n",
       "      <th></th>\n",
       "      <th></th>\n",
       "      <th></th>\n",
       "      <th></th>\n",
       "      <th></th>\n",
       "      <th></th>\n",
       "    </tr>\n",
       "  </thead>\n",
       "  <tbody>\n",
       "    <tr>\n",
       "      <th>201901</th>\n",
       "      <td>18</td>\n",
       "      <td>13</td>\n",
       "      <td>19</td>\n",
       "      <td>17</td>\n",
       "      <td>18</td>\n",
       "      <td>15</td>\n",
       "      <td>11</td>\n",
       "      <td>16</td>\n",
       "      <td>18</td>\n",
       "      <td>17</td>\n",
       "      <td>...</td>\n",
       "      <td>17</td>\n",
       "      <td>21</td>\n",
       "      <td>20</td>\n",
       "      <td>17</td>\n",
       "      <td>7</td>\n",
       "      <td>22</td>\n",
       "      <td>13</td>\n",
       "      <td>14</td>\n",
       "      <td>10</td>\n",
       "      <td>0</td>\n",
       "    </tr>\n",
       "    <tr>\n",
       "      <th>201902</th>\n",
       "      <td>19</td>\n",
       "      <td>14</td>\n",
       "      <td>26</td>\n",
       "      <td>21</td>\n",
       "      <td>16</td>\n",
       "      <td>14</td>\n",
       "      <td>14</td>\n",
       "      <td>17</td>\n",
       "      <td>12</td>\n",
       "      <td>14</td>\n",
       "      <td>...</td>\n",
       "      <td>22</td>\n",
       "      <td>22</td>\n",
       "      <td>22</td>\n",
       "      <td>23</td>\n",
       "      <td>19</td>\n",
       "      <td>22</td>\n",
       "      <td>24</td>\n",
       "      <td>16</td>\n",
       "      <td>11</td>\n",
       "      <td>1</td>\n",
       "    </tr>\n",
       "    <tr>\n",
       "      <th>201903</th>\n",
       "      <td>17</td>\n",
       "      <td>21</td>\n",
       "      <td>20</td>\n",
       "      <td>17</td>\n",
       "      <td>9</td>\n",
       "      <td>27</td>\n",
       "      <td>14</td>\n",
       "      <td>18</td>\n",
       "      <td>12</td>\n",
       "      <td>16</td>\n",
       "      <td>...</td>\n",
       "      <td>23</td>\n",
       "      <td>16</td>\n",
       "      <td>20</td>\n",
       "      <td>12</td>\n",
       "      <td>23</td>\n",
       "      <td>18</td>\n",
       "      <td>16</td>\n",
       "      <td>21</td>\n",
       "      <td>16</td>\n",
       "      <td>0</td>\n",
       "    </tr>\n",
       "    <tr>\n",
       "      <th>201904</th>\n",
       "      <td>17</td>\n",
       "      <td>19</td>\n",
       "      <td>24</td>\n",
       "      <td>20</td>\n",
       "      <td>18</td>\n",
       "      <td>17</td>\n",
       "      <td>14</td>\n",
       "      <td>11</td>\n",
       "      <td>18</td>\n",
       "      <td>13</td>\n",
       "      <td>...</td>\n",
       "      <td>20</td>\n",
       "      <td>20</td>\n",
       "      <td>16</td>\n",
       "      <td>16</td>\n",
       "      <td>11</td>\n",
       "      <td>15</td>\n",
       "      <td>14</td>\n",
       "      <td>16</td>\n",
       "      <td>20</td>\n",
       "      <td>0</td>\n",
       "    </tr>\n",
       "    <tr>\n",
       "      <th>201905</th>\n",
       "      <td>24</td>\n",
       "      <td>14</td>\n",
       "      <td>16</td>\n",
       "      <td>14</td>\n",
       "      <td>19</td>\n",
       "      <td>18</td>\n",
       "      <td>23</td>\n",
       "      <td>15</td>\n",
       "      <td>16</td>\n",
       "      <td>11</td>\n",
       "      <td>...</td>\n",
       "      <td>13</td>\n",
       "      <td>22</td>\n",
       "      <td>18</td>\n",
       "      <td>16</td>\n",
       "      <td>16</td>\n",
       "      <td>9</td>\n",
       "      <td>21</td>\n",
       "      <td>16</td>\n",
       "      <td>20</td>\n",
       "      <td>0</td>\n",
       "    </tr>\n",
       "    <tr>\n",
       "      <th>201906</th>\n",
       "      <td>24</td>\n",
       "      <td>12</td>\n",
       "      <td>11</td>\n",
       "      <td>19</td>\n",
       "      <td>13</td>\n",
       "      <td>18</td>\n",
       "      <td>15</td>\n",
       "      <td>13</td>\n",
       "      <td>19</td>\n",
       "      <td>22</td>\n",
       "      <td>...</td>\n",
       "      <td>15</td>\n",
       "      <td>16</td>\n",
       "      <td>21</td>\n",
       "      <td>12</td>\n",
       "      <td>18</td>\n",
       "      <td>20</td>\n",
       "      <td>17</td>\n",
       "      <td>15</td>\n",
       "      <td>13</td>\n",
       "      <td>0</td>\n",
       "    </tr>\n",
       "    <tr>\n",
       "      <th>201907</th>\n",
       "      <td>20</td>\n",
       "      <td>20</td>\n",
       "      <td>17</td>\n",
       "      <td>17</td>\n",
       "      <td>12</td>\n",
       "      <td>17</td>\n",
       "      <td>19</td>\n",
       "      <td>19</td>\n",
       "      <td>19</td>\n",
       "      <td>23</td>\n",
       "      <td>...</td>\n",
       "      <td>15</td>\n",
       "      <td>19</td>\n",
       "      <td>23</td>\n",
       "      <td>21</td>\n",
       "      <td>13</td>\n",
       "      <td>28</td>\n",
       "      <td>16</td>\n",
       "      <td>18</td>\n",
       "      <td>12</td>\n",
       "      <td>0</td>\n",
       "    </tr>\n",
       "  </tbody>\n",
       "</table>\n",
       "<p>7 rows × 26 columns</p>\n",
       "</div>"
      ],
      "text/plain": [
       "item_name       상품A  상품B  상품C  상품D  상품E  상품F  상품G  상품H  상품I  상품J  ...  상품Q  \\\n",
       "purchase_month                                                    ...        \n",
       "201901           18   13   19   17   18   15   11   16   18   17  ...   17   \n",
       "201902           19   14   26   21   16   14   14   17   12   14  ...   22   \n",
       "201903           17   21   20   17    9   27   14   18   12   16  ...   23   \n",
       "201904           17   19   24   20   18   17   14   11   18   13  ...   20   \n",
       "201905           24   14   16   14   19   18   23   15   16   11  ...   13   \n",
       "201906           24   12   11   19   13   18   15   13   19   22  ...   15   \n",
       "201907           20   20   17   17   12   17   19   19   19   23  ...   15   \n",
       "\n",
       "item_name       상품R  상품S  상품T  상품U  상품V  상품W  상품X  상품Y  상품Z  \n",
       "purchase_month                                               \n",
       "201901           21   20   17    7   22   13   14   10    0  \n",
       "201902           22   22   23   19   22   24   16   11    1  \n",
       "201903           16   20   12   23   18   16   21   16    0  \n",
       "201904           20   16   16   11   15   14   16   20    0  \n",
       "201905           22   18   16   16    9   21   16   20    0  \n",
       "201906           16   21   12   18   20   17   15   13    0  \n",
       "201907           19   23   21   13   28   16   18   12    0  \n",
       "\n",
       "[7 rows x 26 columns]"
      ]
     },
     "execution_count": 5,
     "metadata": {},
     "output_type": "execute_result"
    }
   ],
   "source": [
    "data.pivot_table(index='purchase_month', columns='item_name', aggfunc='size', fill_value=0)"
   ]
  },
  {
   "cell_type": "code",
   "execution_count": 6,
   "id": "supposed-equation",
   "metadata": {
    "ExecuteTime": {
     "end_time": "2021-02-23T07:59:34.301960Z",
     "start_time": "2021-02-23T07:59:34.264981Z"
    }
   },
   "outputs": [
    {
     "data": {
      "text/html": [
       "<div>\n",
       "<style scoped>\n",
       "    .dataframe tbody tr th:only-of-type {\n",
       "        vertical-align: middle;\n",
       "    }\n",
       "\n",
       "    .dataframe tbody tr th {\n",
       "        vertical-align: top;\n",
       "    }\n",
       "\n",
       "    .dataframe thead th {\n",
       "        text-align: right;\n",
       "    }\n",
       "</style>\n",
       "<table border=\"1\" class=\"dataframe\">\n",
       "  <thead>\n",
       "    <tr style=\"text-align: right;\">\n",
       "      <th>item_name</th>\n",
       "      <th>상품A</th>\n",
       "      <th>상품B</th>\n",
       "      <th>상품C</th>\n",
       "      <th>상품D</th>\n",
       "      <th>상품E</th>\n",
       "      <th>상품F</th>\n",
       "      <th>상품G</th>\n",
       "      <th>상품H</th>\n",
       "      <th>상품I</th>\n",
       "      <th>상품J</th>\n",
       "      <th>...</th>\n",
       "      <th>상품Q</th>\n",
       "      <th>상품R</th>\n",
       "      <th>상품S</th>\n",
       "      <th>상품T</th>\n",
       "      <th>상품U</th>\n",
       "      <th>상품V</th>\n",
       "      <th>상품W</th>\n",
       "      <th>상품X</th>\n",
       "      <th>상품Y</th>\n",
       "      <th>상품Z</th>\n",
       "    </tr>\n",
       "    <tr>\n",
       "      <th>purchase_month</th>\n",
       "      <th></th>\n",
       "      <th></th>\n",
       "      <th></th>\n",
       "      <th></th>\n",
       "      <th></th>\n",
       "      <th></th>\n",
       "      <th></th>\n",
       "      <th></th>\n",
       "      <th></th>\n",
       "      <th></th>\n",
       "      <th></th>\n",
       "      <th></th>\n",
       "      <th></th>\n",
       "      <th></th>\n",
       "      <th></th>\n",
       "      <th></th>\n",
       "      <th></th>\n",
       "      <th></th>\n",
       "      <th></th>\n",
       "      <th></th>\n",
       "      <th></th>\n",
       "    </tr>\n",
       "  </thead>\n",
       "  <tbody>\n",
       "    <tr>\n",
       "      <th>201901</th>\n",
       "      <td>1800</td>\n",
       "      <td>2600</td>\n",
       "      <td>5700</td>\n",
       "      <td>6800</td>\n",
       "      <td>9000</td>\n",
       "      <td>9000</td>\n",
       "      <td>7700</td>\n",
       "      <td>12800</td>\n",
       "      <td>16200</td>\n",
       "      <td>17000</td>\n",
       "      <td>...</td>\n",
       "      <td>28900</td>\n",
       "      <td>37800</td>\n",
       "      <td>38000</td>\n",
       "      <td>34000</td>\n",
       "      <td>14700</td>\n",
       "      <td>48400</td>\n",
       "      <td>29900</td>\n",
       "      <td>33600</td>\n",
       "      <td>25000</td>\n",
       "      <td>0</td>\n",
       "    </tr>\n",
       "    <tr>\n",
       "      <th>201902</th>\n",
       "      <td>1900</td>\n",
       "      <td>2800</td>\n",
       "      <td>7800</td>\n",
       "      <td>8400</td>\n",
       "      <td>8000</td>\n",
       "      <td>8400</td>\n",
       "      <td>9800</td>\n",
       "      <td>13600</td>\n",
       "      <td>10800</td>\n",
       "      <td>14000</td>\n",
       "      <td>...</td>\n",
       "      <td>37400</td>\n",
       "      <td>39600</td>\n",
       "      <td>41800</td>\n",
       "      <td>46000</td>\n",
       "      <td>39900</td>\n",
       "      <td>48400</td>\n",
       "      <td>55200</td>\n",
       "      <td>38400</td>\n",
       "      <td>27500</td>\n",
       "      <td>2600</td>\n",
       "    </tr>\n",
       "    <tr>\n",
       "      <th>201903</th>\n",
       "      <td>1700</td>\n",
       "      <td>4200</td>\n",
       "      <td>6000</td>\n",
       "      <td>6800</td>\n",
       "      <td>4500</td>\n",
       "      <td>16200</td>\n",
       "      <td>9800</td>\n",
       "      <td>14400</td>\n",
       "      <td>10800</td>\n",
       "      <td>16000</td>\n",
       "      <td>...</td>\n",
       "      <td>39100</td>\n",
       "      <td>28800</td>\n",
       "      <td>38000</td>\n",
       "      <td>24000</td>\n",
       "      <td>48300</td>\n",
       "      <td>39600</td>\n",
       "      <td>36800</td>\n",
       "      <td>50400</td>\n",
       "      <td>40000</td>\n",
       "      <td>0</td>\n",
       "    </tr>\n",
       "    <tr>\n",
       "      <th>201904</th>\n",
       "      <td>1700</td>\n",
       "      <td>3800</td>\n",
       "      <td>7200</td>\n",
       "      <td>8000</td>\n",
       "      <td>9000</td>\n",
       "      <td>10200</td>\n",
       "      <td>9800</td>\n",
       "      <td>8800</td>\n",
       "      <td>16200</td>\n",
       "      <td>13000</td>\n",
       "      <td>...</td>\n",
       "      <td>34000</td>\n",
       "      <td>36000</td>\n",
       "      <td>30400</td>\n",
       "      <td>32000</td>\n",
       "      <td>23100</td>\n",
       "      <td>33000</td>\n",
       "      <td>32200</td>\n",
       "      <td>38400</td>\n",
       "      <td>50000</td>\n",
       "      <td>0</td>\n",
       "    </tr>\n",
       "    <tr>\n",
       "      <th>201905</th>\n",
       "      <td>2400</td>\n",
       "      <td>2800</td>\n",
       "      <td>4800</td>\n",
       "      <td>5600</td>\n",
       "      <td>9500</td>\n",
       "      <td>10800</td>\n",
       "      <td>16100</td>\n",
       "      <td>12000</td>\n",
       "      <td>14400</td>\n",
       "      <td>11000</td>\n",
       "      <td>...</td>\n",
       "      <td>22100</td>\n",
       "      <td>39600</td>\n",
       "      <td>34200</td>\n",
       "      <td>32000</td>\n",
       "      <td>33600</td>\n",
       "      <td>19800</td>\n",
       "      <td>48300</td>\n",
       "      <td>38400</td>\n",
       "      <td>50000</td>\n",
       "      <td>0</td>\n",
       "    </tr>\n",
       "    <tr>\n",
       "      <th>201906</th>\n",
       "      <td>2400</td>\n",
       "      <td>2400</td>\n",
       "      <td>3300</td>\n",
       "      <td>7600</td>\n",
       "      <td>6500</td>\n",
       "      <td>10800</td>\n",
       "      <td>10500</td>\n",
       "      <td>10400</td>\n",
       "      <td>17100</td>\n",
       "      <td>22000</td>\n",
       "      <td>...</td>\n",
       "      <td>25500</td>\n",
       "      <td>28800</td>\n",
       "      <td>39900</td>\n",
       "      <td>24000</td>\n",
       "      <td>37800</td>\n",
       "      <td>44000</td>\n",
       "      <td>39100</td>\n",
       "      <td>36000</td>\n",
       "      <td>32500</td>\n",
       "      <td>0</td>\n",
       "    </tr>\n",
       "    <tr>\n",
       "      <th>201907</th>\n",
       "      <td>2000</td>\n",
       "      <td>4000</td>\n",
       "      <td>5100</td>\n",
       "      <td>6800</td>\n",
       "      <td>6000</td>\n",
       "      <td>10200</td>\n",
       "      <td>13300</td>\n",
       "      <td>15200</td>\n",
       "      <td>17100</td>\n",
       "      <td>23000</td>\n",
       "      <td>...</td>\n",
       "      <td>25500</td>\n",
       "      <td>34200</td>\n",
       "      <td>43700</td>\n",
       "      <td>42000</td>\n",
       "      <td>27300</td>\n",
       "      <td>61600</td>\n",
       "      <td>36800</td>\n",
       "      <td>43200</td>\n",
       "      <td>30000</td>\n",
       "      <td>0</td>\n",
       "    </tr>\n",
       "  </tbody>\n",
       "</table>\n",
       "<p>7 rows × 26 columns</p>\n",
       "</div>"
      ],
      "text/plain": [
       "item_name        상품A   상품B   상품C   상품D   상품E    상품F    상품G    상품H    상품I  \\\n",
       "purchase_month                                                             \n",
       "201901          1800  2600  5700  6800  9000   9000   7700  12800  16200   \n",
       "201902          1900  2800  7800  8400  8000   8400   9800  13600  10800   \n",
       "201903          1700  4200  6000  6800  4500  16200   9800  14400  10800   \n",
       "201904          1700  3800  7200  8000  9000  10200   9800   8800  16200   \n",
       "201905          2400  2800  4800  5600  9500  10800  16100  12000  14400   \n",
       "201906          2400  2400  3300  7600  6500  10800  10500  10400  17100   \n",
       "201907          2000  4000  5100  6800  6000  10200  13300  15200  17100   \n",
       "\n",
       "item_name         상품J  ...    상품Q    상품R    상품S    상품T    상품U    상품V    상품W  \\\n",
       "purchase_month         ...                                                    \n",
       "201901          17000  ...  28900  37800  38000  34000  14700  48400  29900   \n",
       "201902          14000  ...  37400  39600  41800  46000  39900  48400  55200   \n",
       "201903          16000  ...  39100  28800  38000  24000  48300  39600  36800   \n",
       "201904          13000  ...  34000  36000  30400  32000  23100  33000  32200   \n",
       "201905          11000  ...  22100  39600  34200  32000  33600  19800  48300   \n",
       "201906          22000  ...  25500  28800  39900  24000  37800  44000  39100   \n",
       "201907          23000  ...  25500  34200  43700  42000  27300  61600  36800   \n",
       "\n",
       "item_name         상품X    상품Y   상품Z  \n",
       "purchase_month                      \n",
       "201901          33600  25000     0  \n",
       "201902          38400  27500  2600  \n",
       "201903          50400  40000     0  \n",
       "201904          38400  50000     0  \n",
       "201905          38400  50000     0  \n",
       "201906          36000  32500     0  \n",
       "201907          43200  30000     0  \n",
       "\n",
       "[7 rows x 26 columns]"
      ]
     },
     "execution_count": 6,
     "metadata": {},
     "output_type": "execute_result"
    }
   ],
   "source": [
    "data.pivot_table(index='purchase_month', columns='item_name', values='item_price', aggfunc='sum', fill_value=0)"
   ]
  },
  {
   "cell_type": "code",
   "execution_count": null,
   "id": "undefined-allen",
   "metadata": {},
   "outputs": [],
   "source": []
  },
  {
   "cell_type": "code",
   "execution_count": null,
   "id": "seventh-clear",
   "metadata": {},
   "outputs": [],
   "source": []
  },
  {
   "cell_type": "code",
   "execution_count": null,
   "id": "gross-drilling",
   "metadata": {},
   "outputs": [],
   "source": []
  },
  {
   "cell_type": "code",
   "execution_count": null,
   "id": "liberal-gambling",
   "metadata": {},
   "outputs": [],
   "source": []
  }
 ],
 "metadata": {
  "hide_input": false,
  "kernelspec": {
   "display_name": "Python 3",
   "language": "python",
   "name": "python3"
  },
  "language_info": {
   "codemirror_mode": {
    "name": "ipython",
    "version": 3
   },
   "file_extension": ".py",
   "mimetype": "text/x-python",
   "name": "python",
   "nbconvert_exporter": "python",
   "pygments_lexer": "ipython3",
   "version": "3.8.3"
  },
  "toc": {
   "base_numbering": 1,
   "nav_menu": {},
   "number_sections": true,
   "sideBar": true,
   "skip_h1_title": false,
   "title_cell": "Table of Contents",
   "title_sidebar": "Contents",
   "toc_cell": false,
   "toc_position": {},
   "toc_section_display": true,
   "toc_window_display": false
  },
  "varInspector": {
   "cols": {
    "lenName": 16,
    "lenType": 16,
    "lenVar": 40
   },
   "kernels_config": {
    "python": {
     "delete_cmd_postfix": "",
     "delete_cmd_prefix": "del ",
     "library": "var_list.py",
     "varRefreshCmd": "print(var_dic_list())"
    },
    "r": {
     "delete_cmd_postfix": ") ",
     "delete_cmd_prefix": "rm(",
     "library": "var_list.r",
     "varRefreshCmd": "cat(var_dic_list()) "
    }
   },
   "types_to_exclude": [
    "module",
    "function",
    "builtin_function_or_method",
    "instance",
    "_Feature"
   ],
   "window_display": false
  }
 },
 "nbformat": 4,
 "nbformat_minor": 5
}
